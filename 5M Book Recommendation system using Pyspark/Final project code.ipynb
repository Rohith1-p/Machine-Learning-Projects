{
 "cells": [
  {
   "cell_type": "markdown",
   "id": "de3f444e-92ee-4639-81bc-17468501578c",
   "metadata": {
    "execution": {
     "iopub.execute_input": "2025-03-18T18:11:01.883133Z",
     "iopub.status.busy": "2025-03-18T18:11:01.882877Z",
     "iopub.status.idle": "2025-03-18T18:11:01.952610Z",
     "shell.execute_reply": "2025-03-18T18:11:01.951773Z",
     "shell.execute_reply.started": "2025-03-18T18:11:01.883097Z"
    },
    "tags": []
   },
   "source": [
    "# Final Project\n",
    "# Rohith Perumandla\n",
    "# ID: 2174629"
   ]
  },
  {
   "cell_type": "markdown",
   "id": "e2e0167d-c01b-4364-bbcc-36cd451753eb",
   "metadata": {},
   "source": [
    "# Installation and Importing Libraries"
   ]
  },
  {
   "cell_type": "code",
   "execution_count": 1,
   "id": "88dab020-613c-45ab-b878-38a5e51f0919",
   "metadata": {
    "execution": {
     "iopub.execute_input": "2025-03-19T03:52:26.512689Z",
     "iopub.status.busy": "2025-03-19T03:52:26.512390Z",
     "iopub.status.idle": "2025-03-19T03:54:51.848975Z",
     "shell.execute_reply": "2025-03-19T03:54:51.848201Z",
     "shell.execute_reply.started": "2025-03-19T03:52:26.512662Z"
    },
    "tags": []
   },
   "outputs": [
    {
     "data": {
      "application/vnd.jupyter.widget-view+json": {
       "model_id": "adaf7489fa3a497087dfeb5edf2ba399",
       "version_major": 2,
       "version_minor": 0
      },
      "text/plain": [
       "VBox()"
      ]
     },
     "metadata": {},
     "output_type": "display_data"
    },
    {
     "name": "stdout",
     "output_type": "stream",
     "text": [
      "Starting Spark application\n"
     ]
    },
    {
     "data": {
      "text/html": [
       "<table>\n",
       "<tbody><tr><th>ID</th><th>YARN Application ID</th><th>Kind</th><th>State</th><th>Spark UI</th><th>Driver log</th><th>User</th><th>Current session?</th></tr><tr><td>0</td><td>application_1742356023609_0001</td><td>pyspark</td><td>idle</td><td><a target=\"_blank\" href=\"http://ip-172-31-65-13.ec2.internal:20888/proxy/application_1742356023609_0001/\" class=\"emr-proxy-link j-15PQXPQ1CJY6J application_1742356023609_0001\" emr-resource=\"j-15PQXPQ1CJY6J\n",
       "\" application-id=\"application_1742356023609_0001\">Link</a></td><td><a target=\"_blank\" href=\"http://ip-172-31-73-25.ec2.internal:8042/node/containerlogs/container_1742356023609_0001_01_000001/livy\">Link</a></td><td>None</td><td>✔</td></tr></tbody></table>"
      ],
      "text/plain": [
       "<IPython.core.display.HTML object>"
      ]
     },
     "metadata": {},
     "output_type": "display_data"
    },
    {
     "data": {
      "application/vnd.jupyter.widget-view+json": {
       "model_id": "",
       "version_major": 2,
       "version_minor": 0
      },
      "text/plain": [
       "FloatProgress(value=0.0, bar_style='info', description='Progress:', layout=Layout(height='25px', width='50%'),…"
      ]
     },
     "metadata": {},
     "output_type": "display_data"
    },
    {
     "name": "stdout",
     "output_type": "stream",
     "text": [
      "SparkSession available as 'spark'.\n"
     ]
    },
    {
     "data": {
      "application/vnd.jupyter.widget-view+json": {
       "model_id": "",
       "version_major": 2,
       "version_minor": 0
      },
      "text/plain": [
       "FloatProgress(value=0.0, bar_style='info', description='Progress:', layout=Layout(height='25px', width='50%'),…"
      ]
     },
     "metadata": {},
     "output_type": "display_data"
    },
    {
     "name": "stdout",
     "output_type": "stream",
     "text": [
      "Collecting numpy\n",
      "  Downloading numpy-2.0.2-cp39-cp39-manylinux_2_17_x86_64.manylinux2014_x86_64.whl (19.5 MB)\n",
      "Installing collected packages: numpy\n",
      "Successfully installed numpy-2.0.2\n",
      "\n",
      "Collecting matplotlib\n",
      "  Downloading matplotlib-3.9.4-cp39-cp39-manylinux_2_17_x86_64.manylinux2014_x86_64.whl (8.3 MB)\n",
      "Collecting pillow>=8\n",
      "  Downloading pillow-11.1.0-cp39-cp39-manylinux_2_28_x86_64.whl (4.5 MB)\n",
      "Collecting fonttools>=4.22.0\n",
      "  Downloading fonttools-4.56.0-cp39-cp39-manylinux_2_17_x86_64.manylinux2014_x86_64.whl (4.6 MB)\n",
      "Collecting kiwisolver>=1.3.1\n",
      "  Downloading kiwisolver-1.4.7-cp39-cp39-manylinux_2_12_x86_64.manylinux2010_x86_64.whl (1.6 MB)\n",
      "Requirement already satisfied: numpy>=1.23 in ./tmp/spark-8afa3b55-4db8-42e3-8bd0-7b82b49560e2/lib64/python3.9/site-packages (from matplotlib) (2.0.2)\n",
      "Requirement already satisfied: pyparsing>=2.3.1 in /usr/lib/python3.9/site-packages (from matplotlib) (2.4.7)\n",
      "Collecting contourpy>=1.0.1\n",
      "  Downloading contourpy-1.3.0-cp39-cp39-manylinux_2_17_x86_64.manylinux2014_x86_64.whl (321 kB)\n",
      "Requirement already satisfied: packaging>=20.0 in /usr/lib/python3.9/site-packages (from matplotlib) (21.3)\n",
      "Collecting cycler>=0.10\n",
      "  Downloading cycler-0.12.1-py3-none-any.whl (8.3 kB)\n",
      "Collecting importlib-resources>=3.2.0\n",
      "  Downloading importlib_resources-6.5.2-py3-none-any.whl (37 kB)\n",
      "Requirement already satisfied: python-dateutil>=2.7 in /usr/lib/python3.9/site-packages (from matplotlib) (2.8.1)\n",
      "Collecting zipp>=3.1.0\n",
      "  Downloading zipp-3.21.0-py3-none-any.whl (9.6 kB)\n",
      "Requirement already satisfied: six>=1.5 in /usr/local/lib/python3.9/site-packages (from python-dateutil>=2.7->matplotlib) (1.13.0)\n",
      "Installing collected packages: zipp, pillow, kiwisolver, importlib-resources, fonttools, cycler, contourpy, matplotlib\n",
      "Successfully installed contourpy-1.3.0 cycler-0.12.1 fonttools-4.56.0 importlib-resources-6.5.2 kiwisolver-1.4.7 matplotlib-3.9.4 pillow-11.1.0 zipp-3.21.0\n",
      "\n",
      "Collecting seaborn\n",
      "  Downloading seaborn-0.13.2-py3-none-any.whl (294 kB)\n",
      "Requirement already satisfied: numpy!=1.24.0,>=1.20 in ./tmp/spark-8afa3b55-4db8-42e3-8bd0-7b82b49560e2/lib64/python3.9/site-packages (from seaborn) (2.0.2)\n",
      "Requirement already satisfied: matplotlib!=3.6.1,>=3.4 in ./tmp/spark-8afa3b55-4db8-42e3-8bd0-7b82b49560e2/lib64/python3.9/site-packages (from seaborn) (3.9.4)\n",
      "Collecting pandas>=1.2\n",
      "  Downloading pandas-2.2.3-cp39-cp39-manylinux_2_17_x86_64.manylinux2014_x86_64.whl (13.1 MB)\n",
      "Requirement already satisfied: pillow>=8 in ./tmp/spark-8afa3b55-4db8-42e3-8bd0-7b82b49560e2/lib64/python3.9/site-packages (from matplotlib!=3.6.1,>=3.4->seaborn) (11.1.0)\n",
      "Requirement already satisfied: importlib-resources>=3.2.0 in ./tmp/spark-8afa3b55-4db8-42e3-8bd0-7b82b49560e2/lib/python3.9/site-packages (from matplotlib!=3.6.1,>=3.4->seaborn) (6.5.2)\n",
      "Requirement already satisfied: fonttools>=4.22.0 in ./tmp/spark-8afa3b55-4db8-42e3-8bd0-7b82b49560e2/lib64/python3.9/site-packages (from matplotlib!=3.6.1,>=3.4->seaborn) (4.56.0)\n",
      "Requirement already satisfied: kiwisolver>=1.3.1 in ./tmp/spark-8afa3b55-4db8-42e3-8bd0-7b82b49560e2/lib64/python3.9/site-packages (from matplotlib!=3.6.1,>=3.4->seaborn) (1.4.7)\n",
      "Requirement already satisfied: contourpy>=1.0.1 in ./tmp/spark-8afa3b55-4db8-42e3-8bd0-7b82b49560e2/lib64/python3.9/site-packages (from matplotlib!=3.6.1,>=3.4->seaborn) (1.3.0)\n",
      "Requirement already satisfied: pyparsing>=2.3.1 in /usr/lib/python3.9/site-packages (from matplotlib!=3.6.1,>=3.4->seaborn) (2.4.7)\n",
      "Requirement already satisfied: packaging>=20.0 in /usr/lib/python3.9/site-packages (from matplotlib!=3.6.1,>=3.4->seaborn) (21.3)\n",
      "Requirement already satisfied: cycler>=0.10 in ./tmp/spark-8afa3b55-4db8-42e3-8bd0-7b82b49560e2/lib/python3.9/site-packages (from matplotlib!=3.6.1,>=3.4->seaborn) (0.12.1)\n",
      "Requirement already satisfied: python-dateutil>=2.7 in /usr/lib/python3.9/site-packages (from matplotlib!=3.6.1,>=3.4->seaborn) (2.8.1)\n",
      "Requirement already satisfied: pytz>=2020.1 in /usr/local/lib/python3.9/site-packages (from pandas>=1.2->seaborn) (2025.1)\n",
      "Collecting tzdata>=2022.7\n",
      "  Downloading tzdata-2025.1-py2.py3-none-any.whl (346 kB)\n",
      "Collecting python-dateutil>=2.7\n",
      "  Downloading python_dateutil-2.9.0.post0-py2.py3-none-any.whl (229 kB)\n",
      "Requirement already satisfied: zipp>=3.1.0 in ./tmp/spark-8afa3b55-4db8-42e3-8bd0-7b82b49560e2/lib/python3.9/site-packages (from importlib-resources>=3.2.0->matplotlib!=3.6.1,>=3.4->seaborn) (3.21.0)\n",
      "Requirement already satisfied: six>=1.5 in /usr/local/lib/python3.9/site-packages (from python-dateutil>=2.7->matplotlib!=3.6.1,>=3.4->seaborn) (1.13.0)\n",
      "Installing collected packages: tzdata, python-dateutil, pandas, seaborn\n",
      "  Attempting uninstall: python-dateutil\n",
      "    Found existing installation: python-dateutil 2.8.1\n",
      "    Not uninstalling python-dateutil at /usr/lib/python3.9/site-packages, outside environment /mnt1/yarn/usercache/livy/appcache/application_1742356023609_0001/container_1742356023609_0001_01_000001/tmp/spark-8afa3b55-4db8-42e3-8bd0-7b82b49560e2\n",
      "    Can't uninstall 'python-dateutil'. No files were found to uninstall.\n",
      "Successfully installed pandas-2.2.3 python-dateutil-2.9.0.post0 seaborn-0.13.2 tzdata-2025.1\n",
      "\n",
      "Collecting sklearn\n",
      "  Downloading sklearn-0.0.post12.tar.gz (2.6 kB)\n",
      "  Preparing metadata (setup.py): started\n",
      "  Preparing metadata (setup.py): finished with status 'error'\n",
      "  Downloading sklearn-0.0.post11.tar.gz (3.6 kB)\n",
      "  Preparing metadata (setup.py): started\n",
      "  Preparing metadata (setup.py): finished with status 'error'\n",
      "  Downloading sklearn-0.0.post10.tar.gz (3.6 kB)\n",
      "  Preparing metadata (setup.py): started\n",
      "  Preparing metadata (setup.py): finished with status 'error'\n",
      "  Downloading sklearn-0.0.post9.tar.gz (3.6 kB)\n",
      "  Preparing metadata (setup.py): started\n",
      "  Preparing metadata (setup.py): finished with status 'error'\n",
      "  Downloading sklearn-0.0.post7.tar.gz (3.6 kB)\n",
      "  Preparing metadata (setup.py): started\n",
      "  Preparing metadata (setup.py): finished with status 'error'\n",
      "  Downloading sklearn-0.0.post5.tar.gz (3.7 kB)\n",
      "  Preparing metadata (setup.py): started\n",
      "  Preparing metadata (setup.py): finished with status 'error'\n",
      "  Downloading sklearn-0.0.post4.tar.gz (3.6 kB)\n",
      "  Preparing metadata (setup.py): started\n",
      "  Preparing metadata (setup.py): finished with status 'error'\n",
      "  Downloading sklearn-0.0.post1.tar.gz (3.6 kB)\n",
      "  Preparing metadata (setup.py): started\n",
      "  Preparing metadata (setup.py): finished with status 'error'\n",
      "  Downloading sklearn-0.0.tar.gz (1.1 kB)\n",
      "  Preparing metadata (setup.py): started\n",
      "  Preparing metadata (setup.py): finished with status 'done'\n",
      "Collecting scikit-learn\n",
      "  Downloading scikit_learn-1.6.1-cp39-cp39-manylinux_2_17_x86_64.manylinux2014_x86_64.whl (13.5 MB)\n",
      "Requirement already satisfied: joblib>=1.2.0 in /usr/local/lib64/python3.9/site-packages (from scikit-learn->sklearn) (1.4.2)\n",
      "Collecting scipy>=1.6.0\n",
      "  Downloading scipy-1.13.1-cp39-cp39-manylinux_2_17_x86_64.manylinux2014_x86_64.whl (38.6 MB)\n",
      "Requirement already satisfied: numpy>=1.19.5 in ./tmp/spark-8afa3b55-4db8-42e3-8bd0-7b82b49560e2/lib64/python3.9/site-packages (from scikit-learn->sklearn) (2.0.2)\n",
      "Collecting threadpoolctl>=3.1.0\n",
      "  Downloading threadpoolctl-3.6.0-py3-none-any.whl (18 kB)\n",
      "Building wheels for collected packages: sklearn\n",
      "  Building wheel for sklearn (setup.py): started\n",
      "  Building wheel for sklearn (setup.py): finished with status 'done'\n",
      "  Created wheel for sklearn: filename=sklearn-0.0-py2.py3-none-any.whl size=1310 sha256=77fdb18ab79bfe7e266b984d3c75ce25d05031dafa6fcd427e8f7f74ff40e15f\n",
      "  Stored in directory: /mnt/tmp/pip-ephem-wheel-cache-2cx5mtha/wheels/e4/7b/98/b6466d71b8d738a0c547008b9eb39bf8676d1ff6ca4b22af1c\n",
      "Successfully built sklearn\n",
      "Installing collected packages: threadpoolctl, scipy, scikit-learn, sklearn\n",
      "Successfully installed scikit-learn-1.6.1 scipy-1.13.1 sklearn-0.0 threadpoolctl-3.6.0\n",
      "\n",
      "Collecting IPython\n",
      "  Downloading ipython-8.18.1-py3-none-any.whl (808 kB)\n",
      "Collecting exceptiongroup\n",
      "  Downloading exceptiongroup-1.2.2-py3-none-any.whl (16 kB)\n",
      "Collecting traitlets>=5\n",
      "  Downloading traitlets-5.14.3-py3-none-any.whl (85 kB)\n",
      "Collecting prompt-toolkit<3.1.0,>=3.0.41\n",
      "  Downloading prompt_toolkit-3.0.50-py3-none-any.whl (387 kB)\n",
      "Collecting pexpect>4.3\n",
      "  Downloading pexpect-4.9.0-py2.py3-none-any.whl (63 kB)\n",
      "Collecting matplotlib-inline\n",
      "  Downloading matplotlib_inline-0.1.7-py3-none-any.whl (9.9 kB)\n",
      "Collecting pygments>=2.4.0\n",
      "  Downloading pygments-2.19.1-py3-none-any.whl (1.2 MB)\n",
      "Collecting typing-extensions\n",
      "  Downloading typing_extensions-4.12.2-py3-none-any.whl (37 kB)\n",
      "Collecting decorator\n",
      "  Downloading decorator-5.2.1-py3-none-any.whl (9.2 kB)\n",
      "Collecting jedi>=0.16\n",
      "  Downloading jedi-0.19.2-py2.py3-none-any.whl (1.6 MB)\n",
      "Collecting stack-data\n",
      "  Downloading stack_data-0.6.3-py3-none-any.whl (24 kB)\n",
      "Collecting parso<0.9.0,>=0.8.4\n",
      "  Downloading parso-0.8.4-py2.py3-none-any.whl (103 kB)\n",
      "Collecting ptyprocess>=0.5\n",
      "  Downloading ptyprocess-0.7.0-py2.py3-none-any.whl (13 kB)\n",
      "Requirement already satisfied: wcwidth in /usr/lib/python3.9/site-packages (from prompt-toolkit<3.1.0,>=3.0.41->IPython) (0.2.5)\n",
      "Collecting executing>=1.2.0\n",
      "  Downloading executing-2.2.0-py2.py3-none-any.whl (26 kB)\n",
      "Collecting asttokens>=2.1.0\n",
      "  Downloading asttokens-3.0.0-py3-none-any.whl (26 kB)\n",
      "Collecting pure-eval\n",
      "  Downloading pure_eval-0.2.3-py3-none-any.whl (11 kB)\n",
      "Installing collected packages: traitlets, pure-eval, ptyprocess, parso, executing, asttokens, typing-extensions, stack-data, pygments, prompt-toolkit, pexpect, matplotlib-inline, jedi, exceptiongroup, decorator, IPython\n",
      "  Attempting uninstall: prompt-toolkit\n",
      "    Found existing installation: prompt-toolkit 3.0.24\n",
      "    Not uninstalling prompt-toolkit at /usr/lib/python3.9/site-packages, outside environment /mnt1/yarn/usercache/livy/appcache/application_1742356023609_0001/container_1742356023609_0001_01_000001/tmp/spark-8afa3b55-4db8-42e3-8bd0-7b82b49560e2\n",
      "    Can't uninstall 'prompt-toolkit'. No files were found to uninstall.\n",
      "Successfully installed IPython-8.18.1 asttokens-3.0.0 decorator-5.2.1 exceptiongroup-1.2.2 executing-2.2.0 jedi-0.19.2 matplotlib-inline-0.1.7 parso-0.8.4 pexpect-4.9.0 prompt-toolkit-3.0.50 ptyprocess-0.7.0 pure-eval-0.2.3 pygments-2.19.1 stack-data-0.6.3 traitlets-5.14.3 typing-extensions-4.12.2\n",
      "\n",
      "Collecting boto3\n",
      "  Downloading boto3-1.37.15-py3-none-any.whl (139 kB)\n",
      "Collecting botocore<1.38.0,>=1.37.15\n",
      "  Downloading botocore-1.37.15-py3-none-any.whl (13.4 MB)\n",
      "Collecting s3transfer<0.12.0,>=0.11.0\n",
      "  Downloading s3transfer-0.11.4-py3-none-any.whl (84 kB)\n",
      "Requirement already satisfied: jmespath<2.0.0,>=0.7.1 in /usr/local/lib/python3.9/site-packages (from boto3) (1.0.1)\n",
      "Requirement already satisfied: urllib3<1.27,>=1.25.4 in /usr/lib/python3.9/site-packages (from botocore<1.38.0,>=1.37.15->boto3) (1.25.10)\n",
      "Requirement already satisfied: python-dateutil<3.0.0,>=2.1 in ./tmp/spark-8afa3b55-4db8-42e3-8bd0-7b82b49560e2/lib/python3.9/site-packages (from botocore<1.38.0,>=1.37.15->boto3) (2.9.0.post0)\n",
      "Requirement already satisfied: six>=1.5 in /usr/local/lib/python3.9/site-packages (from python-dateutil<3.0.0,>=2.1->botocore<1.38.0,>=1.37.15->boto3) (1.13.0)\n",
      "Installing collected packages: botocore, s3transfer, boto3\n",
      "Successfully installed boto3-1.37.15 botocore-1.37.15 s3transfer-0.11.4\n",
      "\n",
      "Collecting python-dateutil==2.8.2\n",
      "  Downloading python_dateutil-2.8.2-py2.py3-none-any.whl (247 kB)\n",
      "Requirement already satisfied: six>=1.5 in /usr/local/lib/python3.9/site-packages (from python-dateutil==2.8.2) (1.13.0)\n",
      "Installing collected packages: python-dateutil\n",
      "  Attempting uninstall: python-dateutil\n",
      "    Found existing installation: python-dateutil 2.9.0.post0\n",
      "    Uninstalling python-dateutil-2.9.0.post0:\n",
      "      Successfully uninstalled python-dateutil-2.9.0.post0\n",
      "Successfully installed python-dateutil-2.8.2\n",
      "\n",
      "WARNING: The directory '/home/.cache/pip' or its parent directory is not owned or is not writable by the current user. The cache has been disabled. Check the permissions and owner of that directory. If executing pip with sudo, you should use sudo's -H flag.\n",
      "\n",
      "WARNING: The directory '/home/.cache/pip' or its parent directory is not owned or is not writable by the current user. The cache has been disabled. Check the permissions and owner of that directory. If executing pip with sudo, you should use sudo's -H flag.\n",
      "\n",
      "WARNING: The directory '/home/.cache/pip' or its parent directory is not owned or is not writable by the current user. The cache has been disabled. Check the permissions and owner of that directory. If executing pip with sudo, you should use sudo's -H flag.\n",
      "ERROR: pip's dependency resolver does not currently take into account all the packages that are installed. This behaviour is the source of the following dependency conflicts.\n",
      "awscli 2.17.18 requires python-dateutil<=2.8.2,>=2.1, but you have python-dateutil 2.9.0.post0 which is incompatible.\n",
      "\n",
      "WARNING: The directory '/home/.cache/pip' or its parent directory is not owned or is not writable by the current user. The cache has been disabled. Check the permissions and owner of that directory. If executing pip with sudo, you should use sudo's -H flag.\n",
      "  ERROR: Command errored out with exit status 1:\n",
      "   command: /mnt1/yarn/usercache/livy/appcache/application_1742356023609_0001/container_1742356023609_0001_01_000001/tmp/spark-8afa3b55-4db8-42e3-8bd0-7b82b49560e2/bin/python -c 'import io, os, sys, setuptools, tokenize; sys.argv[0] = '\"'\"'/mnt/tmp/pip-install-i_r0lbb7/sklearn_6f58a1835afa40c09389ebd084c2915d/setup.py'\"'\"'; __file__='\"'\"'/mnt/tmp/pip-install-i_r0lbb7/sklearn_6f58a1835afa40c09389ebd084c2915d/setup.py'\"'\"';f = getattr(tokenize, '\"'\"'open'\"'\"', open)(__file__) if os.path.exists(__file__) else io.StringIO('\"'\"'from setuptools import setup; setup()'\"'\"');code = f.read().replace('\"'\"'\\r\\n'\"'\"', '\"'\"'\\n'\"'\"');f.close();exec(compile(code, __file__, '\"'\"'exec'\"'\"'))' egg_info --egg-base /mnt/tmp/pip-pip-egg-info-dizfkri4\n",
      "       cwd: /mnt/tmp/pip-install-i_r0lbb7/sklearn_6f58a1835afa40c09389ebd084c2915d/\n",
      "  Complete output (15 lines):\n",
      "  The 'sklearn' PyPI package is deprecated, use 'scikit-learn'\n",
      "  rather than 'sklearn' for pip commands.\n",
      "  \n",
      "  Here is how to fix this error in the main use cases:\n",
      "  - use 'pip install scikit-learn' rather than 'pip install sklearn'\n",
      "  - replace 'sklearn' by 'scikit-learn' in your pip requirements files\n",
      "    (requirements.txt, setup.py, setup.cfg, Pipfile, etc ...)\n",
      "  - if the 'sklearn' package is used by one of your dependencies,\n",
      "    it would be great if you take some time to track which package uses\n",
      "    'sklearn' instead of 'scikit-learn' and report it to their issue tracker\n",
      "  - as a last resort, set the environment variable\n",
      "    SKLEARN_ALLOW_DEPRECATED_SKLEARN_PACKAGE_INSTALL=True to avoid this error\n",
      "  \n",
      "  More information is available at\n",
      "  https://github.com/scikit-learn/sklearn-pypi-package\n",
      "  ----------------------------------------\n",
      "WARNING: Discarding https://files.pythonhosted.org/packages/46/1c/395a83ee7b2d2ad7a05b453872053d41449564477c81dc356f720b16eac4/sklearn-0.0.post12.tar.gz#sha256=54cff9e20839b7b202321178228af4d9388bedf78425d9299fd9ee170d68802e (from https://pypi.org/simple/sklearn/). Command errored out with exit status 1: python setup.py egg_info Check the logs for full command output.\n",
      "  ERROR: Command errored out with exit status 1:\n",
      "   command: /mnt1/yarn/usercache/livy/appcache/application_1742356023609_0001/container_1742356023609_0001_01_000001/tmp/spark-8afa3b55-4db8-42e3-8bd0-7b82b49560e2/bin/python -c 'import io, os, sys, setuptools, tokenize; sys.argv[0] = '\"'\"'/mnt/tmp/pip-install-i_r0lbb7/sklearn_f72f0797fe024470928c3558c2640ca5/setup.py'\"'\"'; __file__='\"'\"'/mnt/tmp/pip-install-i_r0lbb7/sklearn_f72f0797fe024470928c3558c2640ca5/setup.py'\"'\"';f = getattr(tokenize, '\"'\"'open'\"'\"', open)(__file__) if os.path.exists(__file__) else io.StringIO('\"'\"'from setuptools import setup; setup()'\"'\"');code = f.read().replace('\"'\"'\\r\\n'\"'\"', '\"'\"'\\n'\"'\"');f.close();exec(compile(code, __file__, '\"'\"'exec'\"'\"'))' egg_info --egg-base /mnt/tmp/pip-pip-egg-info-fynt72ri\n",
      "       cwd: /mnt/tmp/pip-install-i_r0lbb7/sklearn_f72f0797fe024470928c3558c2640ca5/\n",
      "  Complete output (18 lines):\n",
      "  The 'sklearn' PyPI package is deprecated, use 'scikit-learn'\n",
      "  rather than 'sklearn' for pip commands.\n",
      "  \n",
      "  Here is how to fix this error in the main use cases:\n",
      "  - use 'pip install scikit-learn' rather than 'pip install sklearn'\n",
      "  - replace 'sklearn' by 'scikit-learn' in your pip requirements files\n",
      "    (requirements.txt, setup.py, setup.cfg, Pipfile, etc ...)\n",
      "  - if the 'sklearn' package is used by one of your dependencies,\n",
      "    it would be great if you take some time to track which package uses\n",
      "    'sklearn' instead of 'scikit-learn' and report it to their issue tracker\n",
      "  - as a last resort, set the environment variable\n",
      "    SKLEARN_ALLOW_DEPRECATED_SKLEARN_PACKAGE_INSTALL=True to avoid this error\n",
      "  \n",
      "  More information is available at\n",
      "  https://github.com/scikit-learn/sklearn-pypi-package\n",
      "  \n",
      "  If the previous advice does not cover your use case, feel free to report it at\n",
      "  https://github.com/scikit-learn/sklearn-pypi-package/issues/new\n",
      "  ----------------------------------------\n",
      "WARNING: Discarding https://files.pythonhosted.org/packages/a4/0b/d1c703256cf293be77b7db44dbef62251fe02a97d0bef981f7120b0b0c0f/sklearn-0.0.post11.tar.gz#sha256=af035c4f0b970b7fc2d3856079aa1aa1032df3d7f65048a9d87114abf13c4629 (from https://pypi.org/simple/sklearn/). Command errored out with exit status 1: python setup.py egg_info Check the logs for full command output.\n",
      "  ERROR: Command errored out with exit status 1:\n",
      "   command: /mnt1/yarn/usercache/livy/appcache/application_1742356023609_0001/container_1742356023609_0001_01_000001/tmp/spark-8afa3b55-4db8-42e3-8bd0-7b82b49560e2/bin/python -c 'import io, os, sys, setuptools, tokenize; sys.argv[0] = '\"'\"'/mnt/tmp/pip-install-i_r0lbb7/sklearn_b3ec9a620eea472aa45b3c9d0895a237/setup.py'\"'\"'; __file__='\"'\"'/mnt/tmp/pip-install-i_r0lbb7/sklearn_b3ec9a620eea472aa45b3c9d0895a237/setup.py'\"'\"';f = getattr(tokenize, '\"'\"'open'\"'\"', open)(__file__) if os.path.exists(__file__) else io.StringIO('\"'\"'from setuptools import setup; setup()'\"'\"');code = f.read().replace('\"'\"'\\r\\n'\"'\"', '\"'\"'\\n'\"'\"');f.close();exec(compile(code, __file__, '\"'\"'exec'\"'\"'))' egg_info --egg-base /mnt/tmp/pip-pip-egg-info-tiac31df\n",
      "       cwd: /mnt/tmp/pip-install-i_r0lbb7/sklearn_b3ec9a620eea472aa45b3c9d0895a237/\n",
      "  Complete output (18 lines):\n",
      "  The 'sklearn' PyPI package is deprecated, use 'scikit-learn'\n",
      "  rather than 'sklearn' for pip commands.\n",
      "  \n",
      "  Here is how to fix this error in the main use cases:\n",
      "  - use 'pip install scikit-learn' rather than 'pip install sklearn'\n",
      "  - replace 'sklearn' by 'scikit-learn' in your pip requirements files\n",
      "    (requirements.txt, setup.py, setup.cfg, Pipfile, etc ...)\n",
      "  - if the 'sklearn' package is used by one of your dependencies,\n",
      "    it would be great if you take some time to track which package uses\n",
      "    'sklearn' instead of 'scikit-learn' and report it to their issue tracker\n",
      "  - as a last resort, set the environment variable\n",
      "    SKLEARN_ALLOW_DEPRECATED_SKLEARN_PACKAGE_INSTALL=True to avoid this error\n",
      "  \n",
      "  More information is available at\n",
      "  https://github.com/scikit-learn/sklearn-pypi-package\n",
      "  \n",
      "  If the previous advice does not cover your use case, feel free to report it at\n",
      "  https://github.com/scikit-learn/sklearn-pypi-package/issues/new\n",
      "  ----------------------------------------\n",
      "WARNING: Discarding https://files.pythonhosted.org/packages/b9/0e/b2a4cfaa9e12b9ca4c71507bc26d2c99d75de172c0088c9835a98cf146ff/sklearn-0.0.post10.tar.gz#sha256=d4cd5a2e64b3caaf82cd5e33c46884dfeec5ebf991710d9faeb4fe81cadb3ba6 (from https://pypi.org/simple/sklearn/). Command errored out with exit status 1: python setup.py egg_info Check the logs for full command output.\n",
      "  ERROR: Command errored out with exit status 1:\n",
      "   command: /mnt1/yarn/usercache/livy/appcache/application_1742356023609_0001/container_1742356023609_0001_01_000001/tmp/spark-8afa3b55-4db8-42e3-8bd0-7b82b49560e2/bin/python -c 'import io, os, sys, setuptools, tokenize; sys.argv[0] = '\"'\"'/mnt/tmp/pip-install-i_r0lbb7/sklearn_f25268aaed244e45a5e66414582eaf06/setup.py'\"'\"'; __file__='\"'\"'/mnt/tmp/pip-install-i_r0lbb7/sklearn_f25268aaed244e45a5e66414582eaf06/setup.py'\"'\"';f = getattr(tokenize, '\"'\"'open'\"'\"', open)(__file__) if os.path.exists(__file__) else io.StringIO('\"'\"'from setuptools import setup; setup()'\"'\"');code = f.read().replace('\"'\"'\\r\\n'\"'\"', '\"'\"'\\n'\"'\"');f.close();exec(compile(code, __file__, '\"'\"'exec'\"'\"'))' egg_info --egg-base /mnt/tmp/pip-pip-egg-info-th7g4vz9\n",
      "       cwd: /mnt/tmp/pip-install-i_r0lbb7/sklearn_f25268aaed244e45a5e66414582eaf06/\n",
      "  Complete output (18 lines):\n",
      "  The 'sklearn' PyPI package is deprecated, use 'scikit-learn'\n",
      "  rather than 'sklearn' for pip commands.\n",
      "  \n",
      "  Here is how to fix this error in the main use cases:\n",
      "  - use 'pip install scikit-learn' rather than 'pip install sklearn'\n",
      "  - replace 'sklearn' by 'scikit-learn' in your pip requirements files\n",
      "    (requirements.txt, setup.py, setup.cfg, Pipfile, etc ...)\n",
      "  - if the 'sklearn' package is used by one of your dependencies,\n",
      "    it would be great if you take some time to track which package uses\n",
      "    'sklearn' instead of 'scikit-learn' and report it to their issue tracker\n",
      "  - as a last resort, set the environment variable\n",
      "    SKLEARN_ALLOW_DEPRECATED_SKLEARN_PACKAGE_INSTALL=True to avoid this error\n",
      "  \n",
      "  More information is available at\n",
      "  https://github.com/scikit-learn/sklearn-pypi-package\n",
      "  \n",
      "  If the previous advice does not cover your use case, feel free to report it at\n",
      "  https://github.com/scikit-learn/sklearn-pypi-package/issues/new\n",
      "  ----------------------------------------\n",
      "WARNING: Discarding https://files.pythonhosted.org/packages/28/86/207a003339023247fef1bb5bc9f5093140d17294b2f6d15bfcd4885e469e/sklearn-0.0.post9.tar.gz#sha256=1ff5864cf30489ee48a014fe8f4320d7bb59592392a4ef52ae9d7a37942615ac (from https://pypi.org/simple/sklearn/). Command errored out with exit status 1: python setup.py egg_info Check the logs for full command output.\n",
      "  ERROR: Command errored out with exit status 1:\n",
      "   command: /mnt1/yarn/usercache/livy/appcache/application_1742356023609_0001/container_1742356023609_0001_01_000001/tmp/spark-8afa3b55-4db8-42e3-8bd0-7b82b49560e2/bin/python -c 'import io, os, sys, setuptools, tokenize; sys.argv[0] = '\"'\"'/mnt/tmp/pip-install-i_r0lbb7/sklearn_46c387fa0fae49b2a98a9dead10e7c87/setup.py'\"'\"'; __file__='\"'\"'/mnt/tmp/pip-install-i_r0lbb7/sklearn_46c387fa0fae49b2a98a9dead10e7c87/setup.py'\"'\"';f = getattr(tokenize, '\"'\"'open'\"'\"', open)(__file__) if os.path.exists(__file__) else io.StringIO('\"'\"'from setuptools import setup; setup()'\"'\"');code = f.read().replace('\"'\"'\\r\\n'\"'\"', '\"'\"'\\n'\"'\"');f.close();exec(compile(code, __file__, '\"'\"'exec'\"'\"'))' egg_info --egg-base /mnt/tmp/pip-pip-egg-info-bemvople\n",
      "       cwd: /mnt/tmp/pip-install-i_r0lbb7/sklearn_46c387fa0fae49b2a98a9dead10e7c87/\n",
      "  Complete output (18 lines):\n",
      "  The 'sklearn' PyPI package is deprecated, use 'scikit-learn'\n",
      "  rather than 'sklearn' for pip commands.\n",
      "  \n",
      "  Here is how to fix this error in the main use cases:\n",
      "  - use 'pip install scikit-learn' rather than 'pip install sklearn'\n",
      "  - replace 'sklearn' by 'scikit-learn' in your pip requirements files\n",
      "    (requirements.txt, setup.py, setup.cfg, Pipfile, etc ...)\n",
      "  - if the 'sklearn' package is used by one of your dependencies,\n",
      "    it would be great if you take some time to track which package uses\n",
      "    'sklearn' instead of 'scikit-learn' and report it to their issue tracker\n",
      "  - as a last resort, set the environment variable\n",
      "    SKLEARN_ALLOW_DEPRECATED_SKLEARN_PACKAGE_INSTALL=True to avoid this error\n",
      "  \n",
      "  More information is available at\n",
      "  https://github.com/scikit-learn/sklearn-pypi-package\n",
      "  \n",
      "  If the previous advice does not cover your use case, feel free to report it at\n",
      "  https://github.com/scikit-learn/sklearn-pypi-package/issues/new\n",
      "  ----------------------------------------\n",
      "WARNING: Discarding https://files.pythonhosted.org/packages/70/ce/81aa643f3c43488c4a1e417e45f696a61e7ac82b57190fad3c310df2c07b/sklearn-0.0.post7.tar.gz#sha256=1c89020b364fdc3aa2839e0ae34e8f0b406669e4b5c2359dda3ac398f9c76874 (from https://pypi.org/simple/sklearn/). Command errored out with exit status 1: python setup.py egg_info Check the logs for full command output.\n",
      "  ERROR: Command errored out with exit status 1:\n",
      "   command: /mnt1/yarn/usercache/livy/appcache/application_1742356023609_0001/container_1742356023609_0001_01_000001/tmp/spark-8afa3b55-4db8-42e3-8bd0-7b82b49560e2/bin/python -c 'import io, os, sys, setuptools, tokenize; sys.argv[0] = '\"'\"'/mnt/tmp/pip-install-i_r0lbb7/sklearn_6a5fa7fac6254d71bedc9f07998aac34/setup.py'\"'\"'; __file__='\"'\"'/mnt/tmp/pip-install-i_r0lbb7/sklearn_6a5fa7fac6254d71bedc9f07998aac34/setup.py'\"'\"';f = getattr(tokenize, '\"'\"'open'\"'\"', open)(__file__) if os.path.exists(__file__) else io.StringIO('\"'\"'from setuptools import setup; setup()'\"'\"');code = f.read().replace('\"'\"'\\r\\n'\"'\"', '\"'\"'\\n'\"'\"');f.close();exec(compile(code, __file__, '\"'\"'exec'\"'\"'))' egg_info --egg-base /mnt/tmp/pip-pip-egg-info-y3zn1kkr\n",
      "       cwd: /mnt/tmp/pip-install-i_r0lbb7/sklearn_6a5fa7fac6254d71bedc9f07998aac34/\n",
      "  Complete output (18 lines):\n",
      "  The 'sklearn' PyPI package is deprecated, use 'scikit-learn'\n",
      "  rather than 'sklearn' for pip commands.\n",
      "  \n",
      "  Here is how to fix this error in the main use cases:\n",
      "  - use 'pip install scikit-learn' rather than 'pip install sklearn'\n",
      "  - replace 'sklearn' by 'scikit-learn' in your pip requirements files\n",
      "    (requirements.txt, setup.py, setup.cfg, Pipfile, etc ...)\n",
      "  - if the 'sklearn' package is used by one of your dependencies,\n",
      "    it would be great if you take some time to track which package uses\n",
      "    'sklearn' instead of 'scikit-learn' and report it to their issue tracker\n",
      "  - as a last resort, set the environment variable\n",
      "    SKLEARN_ALLOW_DEPRECATED_SKLEARN_PACKAGE_INSTALL=True to avoid this error\n",
      "  \n",
      "  More information is available at\n",
      "  https://github.com/scikit-learn/sklearn-pypi-package\n",
      "  \n",
      "  If the previous advice does not cover your use case, feel free to report it at\n",
      "  https://github.com/scikit-learn/sklearn-pypi-package/issues/new\n",
      "  ----------------------------------------\n",
      "WARNING: Discarding https://files.pythonhosted.org/packages/7a/93/e0e1b1e98f39dfca7ec9795cb46f6e09e88a2fd5d4a28e4b3d1f618a2aec/sklearn-0.0.post5.tar.gz#sha256=7377c714a03a79bbe9196f435db931fd2a6fa8c68514da7ed3a251fd08c52e2c (from https://pypi.org/simple/sklearn/). Command errored out with exit status 1: python setup.py egg_info Check the logs for full command output.\n",
      "  ERROR: Command errored out with exit status 1:\n",
      "   command: /mnt1/yarn/usercache/livy/appcache/application_1742356023609_0001/container_1742356023609_0001_01_000001/tmp/spark-8afa3b55-4db8-42e3-8bd0-7b82b49560e2/bin/python -c 'import io, os, sys, setuptools, tokenize; sys.argv[0] = '\"'\"'/mnt/tmp/pip-install-i_r0lbb7/sklearn_19919f2b35614f5680703dd00201a22f/setup.py'\"'\"'; __file__='\"'\"'/mnt/tmp/pip-install-i_r0lbb7/sklearn_19919f2b35614f5680703dd00201a22f/setup.py'\"'\"';f = getattr(tokenize, '\"'\"'open'\"'\"', open)(__file__) if os.path.exists(__file__) else io.StringIO('\"'\"'from setuptools import setup; setup()'\"'\"');code = f.read().replace('\"'\"'\\r\\n'\"'\"', '\"'\"'\\n'\"'\"');f.close();exec(compile(code, __file__, '\"'\"'exec'\"'\"'))' egg_info --egg-base /mnt/tmp/pip-pip-egg-info-s5mydgnt\n",
      "       cwd: /mnt/tmp/pip-install-i_r0lbb7/sklearn_19919f2b35614f5680703dd00201a22f/\n",
      "  Complete output (18 lines):\n",
      "  The 'sklearn' PyPI package is deprecated, use 'scikit-learn'\n",
      "  rather than 'sklearn' for pip commands.\n",
      "  \n",
      "  Here is how to fix this error in the main use cases:\n",
      "  - use 'pip install scikit-learn' rather than 'pip install sklearn'\n",
      "  - replace 'sklearn' by 'scikit-learn' in your pip requirements files\n",
      "    (requirements.txt, setup.py, setup.cfg, Pipfile, etc ...)\n",
      "  - if the 'sklearn' package is used by one of your dependencies,\n",
      "    it would be great if you take some time to track which package uses\n",
      "    'sklearn' instead of 'scikit-learn' and report it to their issue tracker\n",
      "  - as a last resort, set the environment variable\n",
      "    SKLEARN_ALLOW_DEPRECATED_SKLEARN_PACKAGE_INSTALL=True to avoid this error\n",
      "  \n",
      "  More information is available at\n",
      "  https://github.com/scikit-learn/sklearn-pypi-package\n",
      "  \n",
      "  If the previous advice does not cover your use case, feel free to report it at\n",
      "  https://github.com/scikit-learn/sklearn-pypi-package/issues/new\n",
      "  ----------------------------------------\n",
      "WARNING: Discarding https://files.pythonhosted.org/packages/99/b2/165110013aa66fae6fc13918ad0e9de4801e5f1691d371bf8b63328037e6/sklearn-0.0.post4.tar.gz#sha256=0e81ec9c32d4bb418e7be8f1ec1027d174975502dc84cbc4f4564b4cba31e674 (from https://pypi.org/simple/sklearn/). Command errored out with exit status 1: python setup.py egg_info Check the logs for full command output.\n",
      "  ERROR: Command errored out with exit status 1:\n",
      "   command: /mnt1/yarn/usercache/livy/appcache/application_1742356023609_0001/container_1742356023609_0001_01_000001/tmp/spark-8afa3b55-4db8-42e3-8bd0-7b82b49560e2/bin/python -c 'import io, os, sys, setuptools, tokenize; sys.argv[0] = '\"'\"'/mnt/tmp/pip-install-i_r0lbb7/sklearn_a7f189a02ac54273976f49cd9fef3c45/setup.py'\"'\"'; __file__='\"'\"'/mnt/tmp/pip-install-i_r0lbb7/sklearn_a7f189a02ac54273976f49cd9fef3c45/setup.py'\"'\"';f = getattr(tokenize, '\"'\"'open'\"'\"', open)(__file__) if os.path.exists(__file__) else io.StringIO('\"'\"'from setuptools import setup; setup()'\"'\"');code = f.read().replace('\"'\"'\\r\\n'\"'\"', '\"'\"'\\n'\"'\"');f.close();exec(compile(code, __file__, '\"'\"'exec'\"'\"'))' egg_info --egg-base /mnt/tmp/pip-pip-egg-info-yazy20_h\n",
      "       cwd: /mnt/tmp/pip-install-i_r0lbb7/sklearn_a7f189a02ac54273976f49cd9fef3c45/\n",
      "  Complete output (18 lines):\n",
      "  The 'sklearn' PyPI package is deprecated, use 'scikit-learn'\n",
      "  rather than 'sklearn' for pip commands.\n",
      "  \n",
      "  Here is how to fix this error in the main use cases:\n",
      "  - use 'pip install scikit-learn' rather than 'pip install sklearn'\n",
      "  - replace 'sklearn' by 'scikit-learn' in your pip requirements files\n",
      "    (requirements.txt, setup.py, setup.cfg, Pipfile, etc ...)\n",
      "  - if the 'sklearn' package is used by one of your dependencies,\n",
      "    it would be great if you take some time to track which package uses\n",
      "    'sklearn' instead of 'scikit-learn' and report it to their issue tracker\n",
      "  - as a last resort, set the environment variable\n",
      "    SKLEARN_ALLOW_DEPRECATED_SKLEARN_PACKAGE_INSTALL=True to avoid this error\n",
      "  \n",
      "  More information is available at\n",
      "  https://github.com/scikit-learn/sklearn-pypi-package\n",
      "  \n",
      "  If the previous advice does not cover your use case, feel free to report it at\n",
      "  https://github.com/scikit-learn/sklearn-pypi-package/issues/new\n",
      "  ----------------------------------------\n",
      "WARNING: Discarding https://files.pythonhosted.org/packages/db/1e/af4e9cded5093a92e60d4ae7149a02c7427661b2db66c8ea4d34b17864a2/sklearn-0.0.post1.tar.gz#sha256=76b9ed1623775168657b86b5fe966d45752e5c87f528de6240c38923b94147c5 (from https://pypi.org/simple/sklearn/). Command errored out with exit status 1: python setup.py egg_info Check the logs for full command output.\n",
      "\n",
      "WARNING: The directory '/home/.cache/pip' or its parent directory is not owned or is not writable by the current user. The cache has been disabled. Check the permissions and owner of that directory. If executing pip with sudo, you should use sudo's -H flag.\n",
      "ERROR: pip's dependency resolver does not currently take into account all the packages that are installed. This behaviour is the source of the following dependency conflicts.\n",
      "awscli 2.17.18 requires prompt-toolkit<3.0.39,>=3.0.24, but you have prompt-toolkit 3.0.50 which is incompatible.\n",
      "awscli 2.17.18 requires python-dateutil<=2.8.2,>=2.1, but you have python-dateutil 2.9.0.post0 which is incompatible.\n",
      "\n",
      "WARNING: The directory '/home/.cache/pip' or its parent directory is not owned or is not writable by the current user. The cache has been disabled. Check the permissions and owner of that directory. If executing pip with sudo, you should use sudo's -H flag.\n",
      "\n",
      "WARNING: The directory '/home/.cache/pip' or its parent directory is not owned or is not writable by the current user. The cache has been disabled. Check the permissions and owner of that directory. If executing pip with sudo, you should use sudo's -H flag.\n",
      "ERROR: pip's dependency resolver does not currently take into account all the packages that are installed. This behaviour is the source of the following dependency conflicts.\n",
      "awscli 2.17.18 requires prompt-toolkit<3.0.39,>=3.0.24, but you have prompt-toolkit 3.0.50 which is incompatible."
     ]
    }
   ],
   "source": [
    "# Installing the required packages\n",
    "sc.install_pypi_package(\"numpy\")\n",
    "sc.install_pypi_package(\"matplotlib\")\n",
    "sc.install_pypi_package(\"seaborn\")\n",
    "sc.install_pypi_package(\"sklearn\")\n",
    "sc.install_pypi_package(\"IPython\")\n",
    "sc.install_pypi_package(\"boto3\")\n",
    "sc.install_pypi_package(\"python-dateutil==2.8.2\")\n"
   ]
  },
  {
   "cell_type": "markdown",
   "id": "9d9bb502-ebde-41ee-81fe-4da158a6c405",
   "metadata": {
    "tags": []
   },
   "source": [
    "# Accessing the Books data from S3 Bucket"
   ]
  },
  {
   "cell_type": "code",
   "execution_count": null,
   "id": "4383d0ca-42a9-436a-aae0-474d4c25770e",
   "metadata": {
    "execution": {
     "iopub.execute_input": "2025-03-19T03:55:13.533898Z",
     "iopub.status.busy": "2025-03-19T03:55:13.533517Z",
     "iopub.status.idle": "2025-03-19T03:55:16.860281Z",
     "shell.execute_reply": "2025-03-19T03:55:16.859514Z",
     "shell.execute_reply.started": "2025-03-19T03:55:13.533840Z"
    },
    "tags": []
   },
   "outputs": [
    {
     "data": {
      "application/vnd.jupyter.widget-view+json": {
       "model_id": "b4bd9fb7bbe44b37bbd5a77f098c6d7f",
       "version_major": 2,
       "version_minor": 0
      },
      "text/plain": [
       "VBox()"
      ]
     },
     "metadata": {},
     "output_type": "display_data"
    },
    {
     "data": {
      "application/vnd.jupyter.widget-view+json": {
       "model_id": "",
       "version_major": 2,
       "version_minor": 0
      },
      "text/plain": [
       "FloatProgress(value=0.0, bar_style='info', description='Progress:', layout=Layout(height='25px', width='50%'),…"
      ]
     },
     "metadata": {},
     "output_type": "display_data"
    }
   ],
   "source": [
    "from pyspark.sql import SparkSession\n",
    "\n",
    "# Initializing Spark session with S3 configurations\n",
    "spark = SparkSession.builder \\\n",
    "    .appName(\"BookRecommendation\") \\\n",
    "    .config(\"spark.hadoop.fs.s3a.impl\", \"org.apache.hadoop.fs.s3a.S3AFileSystem\") \\\n",
    "    .config(\"spark.hadoop.fs.s3a.access.key\", \"your key\") \\\n",
    "    .config(\"spark.hadoop.fs.s3a.secret.key\", \"Your key\") \\\n",
    "    .config(\"spark.hadoop.fs.s3a.endpoint\", \"s3.amazonaws.com\") \\\n",
    "    .getOrCreate()\n",
    "\n",
    "# Load data from S3\n",
    "df_ratings = spark.read.json(\"s3://book-recommendation-project/ratings.json\")\n",
    "df_books = spark.read.json(\"s3://book-recommendation-project/metadata.json\")"
   ]
  },
  {
   "cell_type": "markdown",
   "id": "2e0a8348-8fd0-40a2-8fa3-dc5845dedb49",
   "metadata": {},
   "source": [
    "# Data Cleaning and Transformation"
   ]
  },
  {
   "cell_type": "code",
   "execution_count": 4,
   "id": "877c9d60-5ecb-46bf-971c-3bfa7bbc089c",
   "metadata": {
    "execution": {
     "iopub.execute_input": "2025-03-19T03:55:34.783362Z",
     "iopub.status.busy": "2025-03-19T03:55:34.783145Z",
     "iopub.status.idle": "2025-03-19T03:55:36.053686Z",
     "shell.execute_reply": "2025-03-19T03:55:36.052886Z",
     "shell.execute_reply.started": "2025-03-19T03:55:34.783339Z"
    },
    "tags": []
   },
   "outputs": [
    {
     "data": {
      "application/vnd.jupyter.widget-view+json": {
       "model_id": "ea3d69f40c964650b3ddef9497e778fd",
       "version_major": 2,
       "version_minor": 0
      },
      "text/plain": [
       "VBox()"
      ]
     },
     "metadata": {},
     "output_type": "display_data"
    },
    {
     "data": {
      "application/vnd.jupyter.widget-view+json": {
       "model_id": "",
       "version_major": 2,
       "version_minor": 0
      },
      "text/plain": [
       "FloatProgress(value=0.0, bar_style='info', description='Progress:', layout=Layout(height='25px', width='50%'),…"
      ]
     },
     "metadata": {},
     "output_type": "display_data"
    },
    {
     "name": "stdout",
     "output_type": "stream",
     "text": [
      "+--------+------+-------+\n",
      "| item_id|rating|user_id|\n",
      "+--------+------+-------+\n",
      "|41335427|     5|      0|\n",
      "|41335427|     3|      1|\n",
      "|41335427|     5|      2|\n",
      "|41335427|     5|      3|\n",
      "|41335427|     5|      4|\n",
      "+--------+------+-------+\n",
      "only showing top 5 rows"
     ]
    }
   ],
   "source": [
    "df_ratings.show(5)\n"
   ]
  },
  {
   "cell_type": "code",
   "execution_count": 6,
   "id": "b6a649ad-68b8-42bb-937e-51a298b5577e",
   "metadata": {
    "execution": {
     "iopub.execute_input": "2025-03-19T03:55:40.304731Z",
     "iopub.status.busy": "2025-03-19T03:55:40.304506Z",
     "iopub.status.idle": "2025-03-19T03:55:41.071247Z",
     "shell.execute_reply": "2025-03-19T03:55:41.070526Z",
     "shell.execute_reply.started": "2025-03-19T03:55:40.304707Z"
    },
    "tags": []
   },
   "outputs": [
    {
     "data": {
      "application/vnd.jupyter.widget-view+json": {
       "model_id": "a95ca8ae8617409d8b5a3abb82030527",
       "version_major": 2,
       "version_minor": 0
      },
      "text/plain": [
       "VBox()"
      ]
     },
     "metadata": {},
     "output_type": "display_data"
    },
    {
     "data": {
      "application/vnd.jupyter.widget-view+json": {
       "model_id": "",
       "version_major": 2,
       "version_minor": 0
      },
      "text/plain": [
       "FloatProgress(value=0.0, bar_style='info', description='Progress:', layout=Layout(height='25px', width='50%'),…"
      ]
     },
     "metadata": {},
     "output_type": "display_data"
    },
    {
     "name": "stdout",
     "output_type": "stream",
     "text": [
      "+---------------+--------------------+--------------------+--------+----+--------------------+--------------------+----+\n",
      "|        authors|         description|                 img| item_id|lang|               title|                 url|year|\n",
      "+---------------+--------------------+--------------------+--------+----+--------------------+--------------------+----+\n",
      "|     John Green|There is an alter...|https://images.gr...|16827462| eng|The Fault in Our ...|https://www.goodr...|2012|\n",
      "|Suzanne Collins|Winning will make...|https://images.gr...| 2792775| eng|The Hunger Games ...|https://www.goodr...|2008|\n",
      "|Suzanne Collins|My name is Katnis...|https://images.gr...| 8812783| eng|Mockingjay (The H...|https://www.goodr...|2010|\n",
      "|  Paula Hawkins|Every day the sam...|https://images.gr...|41107568| eng|The Girl on the T...|https://www.goodr...|2015|\n",
      "|Suzanne Collins|Sparks are igniti...|https://images.gr...| 6171458| eng|Catching Fire (Th...|https://www.goodr...|2009|\n",
      "+---------------+--------------------+--------------------+--------+----+--------------------+--------------------+----+\n",
      "only showing top 5 rows"
     ]
    }
   ],
   "source": [
    "df_books.show(5)\n"
   ]
  },
  {
   "cell_type": "code",
   "execution_count": 7,
   "id": "60a451a9-4b87-4b22-a169-62b6143cea23",
   "metadata": {
    "execution": {
     "iopub.execute_input": "2025-03-19T03:55:41.315042Z",
     "iopub.status.busy": "2025-03-19T03:55:41.314830Z",
     "iopub.status.idle": "2025-03-19T03:55:46.610260Z",
     "shell.execute_reply": "2025-03-19T03:55:46.609475Z",
     "shell.execute_reply.started": "2025-03-19T03:55:41.315019Z"
    },
    "tags": []
   },
   "outputs": [
    {
     "data": {
      "application/vnd.jupyter.widget-view+json": {
       "model_id": "2df9884b7f984bfa8998e1e27b1bb960",
       "version_major": 2,
       "version_minor": 0
      },
      "text/plain": [
       "VBox()"
      ]
     },
     "metadata": {},
     "output_type": "display_data"
    },
    {
     "data": {
      "application/vnd.jupyter.widget-view+json": {
       "model_id": "",
       "version_major": 2,
       "version_minor": 0
      },
      "text/plain": [
       "FloatProgress(value=0.0, bar_style='info', description='Progress:', layout=Layout(height='25px', width='50%'),…"
      ]
     },
     "metadata": {},
     "output_type": "display_data"
    },
    {
     "name": "stdout",
     "output_type": "stream",
     "text": [
      "Total Number of Rows in the Books dataset: 9374\n",
      "Total Number of Rows in the Ratings dataset: 5152656"
     ]
    }
   ],
   "source": [
    "print(\"Total Number of Rows in the Books dataset:\",df_books.count())\n",
    "print(\"Total Number of Rows in the Ratings dataset:\",df_ratings.count())\n"
   ]
  },
  {
   "cell_type": "code",
   "execution_count": 8,
   "id": "7bc13f29-02ed-4b88-bfd3-f2f549c45454",
   "metadata": {
    "execution": {
     "iopub.execute_input": "2025-03-19T03:55:50.494901Z",
     "iopub.status.busy": "2025-03-19T03:55:50.494664Z",
     "iopub.status.idle": "2025-03-19T03:55:53.781351Z",
     "shell.execute_reply": "2025-03-19T03:55:53.780619Z",
     "shell.execute_reply.started": "2025-03-19T03:55:50.494873Z"
    },
    "tags": []
   },
   "outputs": [
    {
     "data": {
      "application/vnd.jupyter.widget-view+json": {
       "model_id": "0baf7d846c55471b927e79a08c1940d2",
       "version_major": 2,
       "version_minor": 0
      },
      "text/plain": [
       "VBox()"
      ]
     },
     "metadata": {},
     "output_type": "display_data"
    },
    {
     "data": {
      "application/vnd.jupyter.widget-view+json": {
       "model_id": "",
       "version_major": 2,
       "version_minor": 0
      },
      "text/plain": [
       "FloatProgress(value=0.0, bar_style='info', description='Progress:', layout=Layout(height='25px', width='50%'),…"
      ]
     },
     "metadata": {},
     "output_type": "display_data"
    },
    {
     "name": "stdout",
     "output_type": "stream",
     "text": [
      "Total Number of Rows in the Ratings in the dataset after cleaning: 5152656"
     ]
    }
   ],
   "source": [
    "# Example transformation (filtering valid ratings)\n",
    "df_ratings_clean = df_ratings.filter(df_ratings['rating'].isNotNull())\n",
    "print(\"Total Number of Rows in the Ratings in the dataset after cleaning:\",df_ratings.count())"
   ]
  },
  {
   "cell_type": "code",
   "execution_count": 10,
   "id": "7e871e52-03e7-4548-ad58-4350da973f7b",
   "metadata": {
    "execution": {
     "iopub.execute_input": "2025-03-19T03:58:45.972910Z",
     "iopub.status.busy": "2025-03-19T03:58:45.972686Z",
     "iopub.status.idle": "2025-03-19T03:59:07.326460Z",
     "shell.execute_reply": "2025-03-19T03:59:07.325730Z",
     "shell.execute_reply.started": "2025-03-19T03:58:45.972885Z"
    },
    "tags": []
   },
   "outputs": [
    {
     "data": {
      "application/vnd.jupyter.widget-view+json": {
       "model_id": "3423d7a984b249498776fbd94d3a1a9a",
       "version_major": 2,
       "version_minor": 0
      },
      "text/plain": [
       "VBox()"
      ]
     },
     "metadata": {},
     "output_type": "display_data"
    },
    {
     "data": {
      "application/vnd.jupyter.widget-view+json": {
       "model_id": "",
       "version_major": 2,
       "version_minor": 0
      },
      "text/plain": [
       "FloatProgress(value=0.0, bar_style='info', description='Progress:', layout=Layout(height='25px', width='50%'),…"
      ]
     },
     "metadata": {},
     "output_type": "display_data"
    },
    {
     "name": "stdout",
     "output_type": "stream",
     "text": [
      "Total Number of Rows in the Ratings dataset after cleaning: 5152656\n",
      "+-------+------+-------+\n",
      "|item_id|rating|user_id|\n",
      "+-------+------+-------+\n",
      "|4790821|     5| 215684|\n",
      "|1997473|     4|  40815|\n",
      "|2183601|     5| 215920|\n",
      "|1241552|     5| 216463|\n",
      "|1812101|     4| 130245|\n",
      "+-------+------+-------+\n",
      "only showing top 5 rows"
     ]
    }
   ],
   "source": [
    "from pyspark.sql.functions import col\n",
    "\n",
    "# Remove duplicate entries\n",
    "df_ratings_clean = df_ratings.dropDuplicates()\n",
    "\n",
    "# Filter invalid ratings (ratings must be between 1 and 5)\n",
    "df_ratings_clean = df_ratings_clean.filter((col(\"rating\") >= 0) & (col(\"rating\") <= 5))\n",
    "\n",
    "# Remove rows with NULL values\n",
    "df_ratings_clean = df_ratings_clean.na.drop()\n",
    "\n",
    "# Print count after cleaning\n",
    "print(\"Total Number of Rows in the Ratings dataset after cleaning:\", df_ratings_clean.count())\n",
    "\n",
    "# Show a sample of cleaned data\n",
    "df_ratings_clean.show(5)"
   ]
  },
  {
   "cell_type": "markdown",
   "id": "60569eff-cd29-4982-90d1-091871db11c6",
   "metadata": {
    "execution": {
     "iopub.execute_input": "2025-03-18T20:15:52.214080Z",
     "iopub.status.busy": "2025-03-18T20:15:52.213854Z"
    }
   },
   "source": [
    "# Storing data in AWS Athena"
   ]
  },
  {
   "cell_type": "code",
   "execution_count": 11,
   "id": "c7f90bab-6c70-4506-b81a-a47193706f27",
   "metadata": {
    "execution": {
     "iopub.execute_input": "2025-03-19T03:59:39.604340Z",
     "iopub.status.busy": "2025-03-19T03:59:39.604104Z",
     "iopub.status.idle": "2025-03-19T03:59:39.652892Z",
     "shell.execute_reply": "2025-03-19T03:59:39.652195Z",
     "shell.execute_reply.started": "2025-03-19T03:59:39.604312Z"
    },
    "tags": []
   },
   "outputs": [
    {
     "data": {
      "application/vnd.jupyter.widget-view+json": {
       "model_id": "db43658de08546dd8146348d59b98759",
       "version_major": 2,
       "version_minor": 0
      },
      "text/plain": [
       "VBox()"
      ]
     },
     "metadata": {},
     "output_type": "display_data"
    },
    {
     "data": {
      "application/vnd.jupyter.widget-view+json": {
       "model_id": "",
       "version_major": 2,
       "version_minor": 0
      },
      "text/plain": [
       "FloatProgress(value=0.0, bar_style='info', description='Progress:', layout=Layout(height='25px', width='50%'),…"
      ]
     },
     "metadata": {},
     "output_type": "display_data"
    },
    {
     "name": "stdout",
     "output_type": "stream",
     "text": [
      "Data saved to: s3://book-recommendation-project/data1/ratings_cleaned.csv"
     ]
    }
   ],
   "source": [
    "# Save the cleaned DataFrame as a CSV file in S3\n",
    "S3_BUCKET_NAME = 'book-recommendation-project'\n",
    "S3_KEY = 'data1/ratings_cleaned.csv'\n",
    "\n",
    "df_ratings_clean.write.option(\"header\", \"true\").csv(f\"s3a://{S3_BUCKET_NAME}/{S3_KEY}\")\n",
    "\n",
    "print(f\"Data saved to: s3://{S3_BUCKET_NAME}/{S3_KEY}\")"
   ]
  },
  {
   "cell_type": "code",
   "execution_count": null,
   "id": "1d2569d0-08b3-487f-8398-b9d8046e5de6",
   "metadata": {
    "execution": {
     "iopub.execute_input": "2025-03-19T04:02:50.588649Z",
     "iopub.status.busy": "2025-03-19T04:02:50.588436Z",
     "iopub.status.idle": "2025-03-19T04:02:50.845547Z",
     "shell.execute_reply": "2025-03-19T04:02:50.844890Z",
     "shell.execute_reply.started": "2025-03-19T04:02:50.588624Z"
    },
    "tags": []
   },
   "outputs": [
    {
     "data": {
      "application/vnd.jupyter.widget-view+json": {
       "model_id": "69dfb5c80d594098afae88a6e531de3a",
       "version_major": 2,
       "version_minor": 0
      },
      "text/plain": [
       "VBox()"
      ]
     },
     "metadata": {},
     "output_type": "display_data"
    },
    {
     "data": {
      "application/vnd.jupyter.widget-view+json": {
       "model_id": "",
       "version_major": 2,
       "version_minor": 0
      },
      "text/plain": [
       "FloatProgress(value=0.0, bar_style='info', description='Progress:', layout=Layout(height='25px', width='50%'),…"
      ]
     },
     "metadata": {},
     "output_type": "display_data"
    },
    {
     "name": "stdout",
     "output_type": "stream",
     "text": [
      "Query Status: QUEUED"
     ]
    }
   ],
   "source": [
    "import boto3\n",
    "\n",
    "# Athena configuration\n",
    "athena_client = boto3.client('athena',\n",
    "    aws_access_key_id='your keys', #your access key\n",
    "    aws_secret_access_key='your keys', #your secret access key\n",
    "    aws_session_token='your keys', #your session token\n",
    "    region_name = 'us-east-1')\n",
    "\n",
    "# Define the table creation query for CSV format\n",
    "DATABASE_NAME = 'default'\n",
    "TABLE_NAME = 'book_ratings_table3'\n",
    "\n",
    "create_table_query = f\"\"\"\n",
    "CREATE EXTERNAL TABLE IF NOT EXISTS `{DATABASE_NAME}`.`{TABLE_NAME}` (\n",
    "    user_id INT,\n",
    "    item_id INT,\n",
    "    rating INT\n",
    ")\n",
    "ROW FORMAT DELIMITED\n",
    "FIELDS TERMINATED BY ','\n",
    "LOCATION 's3://{S3_BUCKET_NAME}/{S3_KEY}'\n",
    "\"\"\"\n",
    "\n",
    "# Execute query to create the table\n",
    "response = athena_client.start_query_execution(\n",
    "    QueryString=create_table_query.strip(),\n",
    "    QueryExecutionContext={'Database': DATABASE_NAME},\n",
    "    ResultConfiguration={'OutputLocation': f's3://{S3_BUCKET_NAME}/query_results/'}\n",
    ")\n",
    "\n",
    "# Wait and check query status\n",
    "query_execution_id = response['QueryExecutionId']\n",
    "response = athena_client.get_query_execution(QueryExecutionId=query_execution_id)\n",
    "status = response[\"QueryExecution\"][\"Status\"][\"State\"]\n",
    "print(f\"Query Status: {status}\")\n"
   ]
  },
  {
   "cell_type": "code",
   "execution_count": 17,
   "id": "13852589-afe7-4da7-b782-25f2a8382672",
   "metadata": {
    "execution": {
     "iopub.execute_input": "2025-03-19T04:02:57.619895Z",
     "iopub.status.busy": "2025-03-19T04:02:57.619678Z",
     "iopub.status.idle": "2025-03-19T04:02:57.871019Z",
     "shell.execute_reply": "2025-03-19T04:02:57.870299Z",
     "shell.execute_reply.started": "2025-03-19T04:02:57.619870Z"
    },
    "tags": []
   },
   "outputs": [
    {
     "data": {
      "application/vnd.jupyter.widget-view+json": {
       "model_id": "f3819910bc30458985e1f2ae5a613d5c",
       "version_major": 2,
       "version_minor": 0
      },
      "text/plain": [
       "VBox()"
      ]
     },
     "metadata": {},
     "output_type": "display_data"
    },
    {
     "data": {
      "application/vnd.jupyter.widget-view+json": {
       "model_id": "",
       "version_major": 2,
       "version_minor": 0
      },
      "text/plain": [
       "FloatProgress(value=0.0, bar_style='info', description='Progress:', layout=Layout(height='25px', width='50%'),…"
      ]
     },
     "metadata": {},
     "output_type": "display_data"
    },
    {
     "name": "stdout",
     "output_type": "stream",
     "text": [
      "QUEUED"
     ]
    }
   ],
   "source": [
    "#Query the first 10 rows from the S3 Using Athena SQL query\n",
    "\n",
    "query = \"\"\"\n",
    "    SELECT *\n",
    "    FROM book_ratings_table3\n",
    "    LIMIT 10\n",
    "\"\"\"\n",
    "\n",
    "# Start the query execution in Athena\n",
    "response = athena_client.start_query_execution(\n",
    "    QueryString=query,\n",
    "    QueryExecutionContext={'Database': 'default'},  # Replace with your database name\n",
    "    ResultConfiguration={'OutputLocation': f's3://{S3_BUCKET_NAME}/query_results/'}\n",
    ")\n",
    "\n",
    "# Get the query execution ID\n",
    "query_execution_id = response['QueryExecutionId']\n",
    "\n",
    "# Poll Athena until the query is completed\n",
    "response = athena_client.get_query_execution(QueryExecutionId=query_execution_id)\n",
    "status = response[\"QueryExecution\"][\"Status\"][\"State\"]\n",
    "print(status)\n",
    "\n"
   ]
  },
  {
   "cell_type": "code",
   "execution_count": 21,
   "id": "ccb38c48-a715-4226-93fe-a5ac9cfeeb4b",
   "metadata": {
    "execution": {
     "iopub.execute_input": "2025-03-19T04:03:36.437149Z",
     "iopub.status.busy": "2025-03-19T04:03:36.436887Z",
     "iopub.status.idle": "2025-03-19T04:03:36.484124Z",
     "shell.execute_reply": "2025-03-19T04:03:36.483527Z",
     "shell.execute_reply.started": "2025-03-19T04:03:36.437121Z"
    },
    "tags": []
   },
   "outputs": [
    {
     "data": {
      "application/vnd.jupyter.widget-view+json": {
       "model_id": "520b1e211bdd4b68a9178b3bc549eb2f",
       "version_major": 2,
       "version_minor": 0
      },
      "text/plain": [
       "VBox()"
      ]
     },
     "metadata": {},
     "output_type": "display_data"
    },
    {
     "data": {
      "application/vnd.jupyter.widget-view+json": {
       "model_id": "",
       "version_major": 2,
       "version_minor": 0
      },
      "text/plain": [
       "FloatProgress(value=0.0, bar_style='info', description='Progress:', layout=Layout(height='25px', width='50%'),…"
      ]
     },
     "metadata": {},
     "output_type": "display_data"
    }
   ],
   "source": [
    "def get_query_results_as_dataframe(query_execution_id,spark=spark):\n",
    "    # Fetching the query results\n",
    "    results_paginator = athena_client.get_paginator('get_query_results')\n",
    "    results_iter = results_paginator.paginate(QueryExecutionId=query_execution_id)\n",
    "\n",
    "    # Initialize a list to store rows and columns for DataFrame\n",
    "    columns = []\n",
    "    rows = []\n",
    "    \n",
    "    # Process the result pages\n",
    "    for results_page in results_iter:\n",
    "        # Get column info from the first page\n",
    "        if not columns:\n",
    "            columns = [col['Label'] for col in results_page['ResultSet']['ResultSetMetadata']['ColumnInfo']]\n",
    "            print(columns)\n",
    "        # Skip the first row of the first page (column headers)\n",
    "        for row in results_page['ResultSet']['Rows'][2:]:\n",
    "            rows.append([col.get('VarCharValue', None) for col in row['Data']])\n",
    "    \n",
    "    import pandas as pd\n",
    "#     # Create DataFrame from the results\n",
    "    queried_df = pd.DataFrame(rows, columns=columns)\n",
    "    \n",
    "#     Count the number of 7-digit values in each column\n",
    "    column_lengths = queried_df.applymap(lambda x: len(str(x)))\n",
    "\n",
    "    # Define the condition for majority of length being 7\n",
    "    majority_7 = column_lengths.apply(lambda col: (col == 7).sum() > len(col) // 2)\n",
    "\n",
    "    # Rename columns based on the length conditions\n",
    "    queried_df.columns = ['rating' if queried_df[col].apply(lambda x: len(str(x)) == 1).all() else ('item_id' if majority_7[col] else 'user_id') for col in queried_df.columns]\n",
    "    \n",
    "    return queried_df"
   ]
  },
  {
   "cell_type": "code",
   "execution_count": 22,
   "id": "4f5a3553-9ff9-4ea9-add9-db70b6f8cd31",
   "metadata": {
    "execution": {
     "iopub.execute_input": "2025-03-19T04:03:36.896132Z",
     "iopub.status.busy": "2025-03-19T04:03:36.895867Z",
     "iopub.status.idle": "2025-03-19T04:03:37.146872Z",
     "shell.execute_reply": "2025-03-19T04:03:37.146167Z",
     "shell.execute_reply.started": "2025-03-19T04:03:36.896104Z"
    },
    "tags": []
   },
   "outputs": [
    {
     "data": {
      "application/vnd.jupyter.widget-view+json": {
       "model_id": "dba7dcee90224c05a481974364acba20",
       "version_major": 2,
       "version_minor": 0
      },
      "text/plain": [
       "VBox()"
      ]
     },
     "metadata": {},
     "output_type": "display_data"
    },
    {
     "data": {
      "application/vnd.jupyter.widget-view+json": {
       "model_id": "",
       "version_major": 2,
       "version_minor": 0
      },
      "text/plain": [
       "FloatProgress(value=0.0, bar_style='info', description='Progress:', layout=Layout(height='25px', width='50%'),…"
      ]
     },
     "metadata": {},
     "output_type": "display_data"
    },
    {
     "name": "stdout",
     "output_type": "stream",
     "text": [
      "SUCCEEDED"
     ]
    }
   ],
   "source": [
    "response = athena_client.get_query_execution(QueryExecutionId=query_execution_id)\n",
    "status = response[\"QueryExecution\"][\"Status\"][\"State\"]\n",
    "print(status)"
   ]
  },
  {
   "cell_type": "code",
   "execution_count": 23,
   "id": "3cab02fb-36f9-4e14-a46c-1e3562aa6121",
   "metadata": {
    "execution": {
     "iopub.execute_input": "2025-03-19T04:03:37.433842Z",
     "iopub.status.busy": "2025-03-19T04:03:37.433603Z",
     "iopub.status.idle": "2025-03-19T04:03:38.190073Z",
     "shell.execute_reply": "2025-03-19T04:03:38.189291Z",
     "shell.execute_reply.started": "2025-03-19T04:03:37.433815Z"
    },
    "tags": []
   },
   "outputs": [
    {
     "data": {
      "application/vnd.jupyter.widget-view+json": {
       "model_id": "2a3aa06891aa445eb96f290f2b17c6ba",
       "version_major": 2,
       "version_minor": 0
      },
      "text/plain": [
       "VBox()"
      ]
     },
     "metadata": {},
     "output_type": "display_data"
    },
    {
     "data": {
      "application/vnd.jupyter.widget-view+json": {
       "model_id": "",
       "version_major": 2,
       "version_minor": 0
      },
      "text/plain": [
       "FloatProgress(value=0.0, bar_style='info', description='Progress:', layout=Layout(height='25px', width='50%'),…"
      ]
     },
     "metadata": {},
     "output_type": "display_data"
    },
    {
     "name": "stdout",
     "output_type": "stream",
     "text": [
      "['user_id', 'item_id', 'rating']\n",
      "<stdin>:25: FutureWarning: DataFrame.applymap has been deprecated. Use DataFrame.map instead."
     ]
    }
   ],
   "source": [
    "queried_df = get_query_results_as_dataframe(query_execution_id)\n"
   ]
  },
  {
   "cell_type": "code",
   "execution_count": 24,
   "id": "8bff69ad-898c-4cf5-a6de-a1b15e611e92",
   "metadata": {
    "execution": {
     "iopub.execute_input": "2025-03-19T04:03:42.655995Z",
     "iopub.status.busy": "2025-03-19T04:03:42.655776Z",
     "iopub.status.idle": "2025-03-19T04:03:42.701129Z",
     "shell.execute_reply": "2025-03-19T04:03:42.700510Z",
     "shell.execute_reply.started": "2025-03-19T04:03:42.655970Z"
    },
    "tags": []
   },
   "outputs": [
    {
     "data": {
      "application/vnd.jupyter.widget-view+json": {
       "model_id": "595b5d23939c4725995a99f8172a5605",
       "version_major": 2,
       "version_minor": 0
      },
      "text/plain": [
       "VBox()"
      ]
     },
     "metadata": {},
     "output_type": "display_data"
    },
    {
     "data": {
      "application/vnd.jupyter.widget-view+json": {
       "model_id": "",
       "version_major": 2,
       "version_minor": 0
      },
      "text/plain": [
       "FloatProgress(value=0.0, bar_style='info', description='Progress:', layout=Layout(height='25px', width='50%'),…"
      ]
     },
     "metadata": {},
     "output_type": "display_data"
    },
    {
     "name": "stdout",
     "output_type": "stream",
     "text": [
      "    item_id rating user_id\n",
      "0   7350661      1   60896\n",
      "1   7351419      5   35712\n",
      "2   7351419      3   33291\n",
      "3   7352929      3   80508\n",
      "4   7356968      5  259734\n",
      "5   6596168      4   17676\n",
      "6  10424899      3   67985\n",
      "7   7374960      5   86317\n",
      "8   7377150      2  123829"
     ]
    }
   ],
   "source": [
    "queried_df"
   ]
  },
  {
   "cell_type": "code",
   "execution_count": null,
   "id": "8d32116c-9b29-446a-9abe-5b1bd3bae5a1",
   "metadata": {
    "tags": []
   },
   "outputs": [],
   "source": []
  },
  {
   "cell_type": "code",
   "execution_count": 101,
   "id": "c13c5f5f-54cc-4d81-b160-0bef3a764bea",
   "metadata": {
    "execution": {
     "iopub.execute_input": "2025-03-18T23:47:18.426373Z",
     "iopub.status.busy": "2025-03-18T23:47:18.426150Z",
     "iopub.status.idle": "2025-03-18T23:47:18.470174Z",
     "shell.execute_reply": "2025-03-18T23:47:18.467593Z",
     "shell.execute_reply.started": "2025-03-18T23:47:18.426349Z"
    },
    "tags": []
   },
   "outputs": [
    {
     "data": {
      "application/vnd.jupyter.widget-view+json": {
       "model_id": "5532e7e13eaa40e0bfbe7b5cfeca4b85",
       "version_major": 2,
       "version_minor": 0
      },
      "text/plain": [
       "VBox()"
      ]
     },
     "metadata": {},
     "output_type": "display_data"
    },
    {
     "data": {
      "application/vnd.jupyter.widget-view+json": {
       "model_id": "",
       "version_major": 2,
       "version_minor": 0
      },
      "text/plain": [
       "FloatProgress(value=0.0, bar_style='info', description='Progress:', layout=Layout(height='25px', width='50%'),…"
      ]
     },
     "metadata": {},
     "output_type": "display_data"
    }
   ],
   "source": [
    "# data = []\n",
    "# columns =[ i['VarCharValue'] for i in results['ResultSet']['Rows'][0]['Data']]\n",
    "# for i in results['ResultSet']['Rows'][2:]:\n",
    "# #     print(i['Data'])\n",
    "#     rows =[j['VarCharValue'] for j in i['Data']]\n",
    "#     data.append(rows)\n",
    "\n",
    "# queried_df = pd.DataFrame(data, columns=columns)\n",
    "# queried_df"
   ]
  },
  {
   "cell_type": "markdown",
   "id": "c63a2e57-bd06-4af4-a845-af7bbd6b41ae",
   "metadata": {},
   "source": [
    "# Exploratory Data Analysis"
   ]
  },
  {
   "cell_type": "code",
   "execution_count": 174,
   "id": "589ea4c9-2568-4411-b8f9-c1597d545887",
   "metadata": {
    "execution": {
     "iopub.execute_input": "2025-03-19T01:13:35.265910Z",
     "iopub.status.busy": "2025-03-19T01:13:35.265665Z",
     "iopub.status.idle": "2025-03-19T01:13:48.551747Z",
     "shell.execute_reply": "2025-03-19T01:13:48.550831Z",
     "shell.execute_reply.started": "2025-03-19T01:13:35.265881Z"
    },
    "tags": []
   },
   "outputs": [
    {
     "data": {
      "application/vnd.jupyter.widget-view+json": {
       "model_id": "7e06f78db03d4bea9488ce464582dc52",
       "version_major": 2,
       "version_minor": 0
      },
      "text/plain": [
       "VBox()"
      ]
     },
     "metadata": {},
     "output_type": "display_data"
    },
    {
     "data": {
      "application/vnd.jupyter.widget-view+json": {
       "model_id": "",
       "version_major": 2,
       "version_minor": 0
      },
      "text/plain": [
       "FloatProgress(value=0.0, bar_style='info', description='Progress:', layout=Layout(height='25px', width='50%'),…"
      ]
     },
     "metadata": {},
     "output_type": "display_data"
    },
    {
     "name": "stdout",
     "output_type": "stream",
     "text": [
      "    item_id  avg_rating\n",
      "0  26518929    4.826568\n",
      "1  52922245    4.818605\n",
      "2  49704739    4.801546\n",
      "3  41343043    4.788571\n",
      "4   2962492    4.786963\n",
      "5  28323940    4.780161\n",
      "6  26419682    4.770270\n",
      "7  47472732    4.770000\n",
      "8  51859542    4.768750\n",
      "9  16482835    4.767677\n",
      "/mnt1/yarn/usercache/livy/appcache/application_1742334962508_0003/container_1742334962508_0003_01_000001/top_10_liked_books.png"
     ]
    }
   ],
   "source": [
    "import matplotlib.pyplot as plt\n",
    "import seaborn as sns\n",
    "from pyspark.sql.functions import col, avg\n",
    "\n",
    "# Aggregate to get average rating for each item_id\n",
    "top_liked_books = df_ratings.groupBy(\"item_id\").agg(avg(\"rating\").alias(\"avg_rating\"))\n",
    "\n",
    "# Convert to Pandas for visualization\n",
    "top_liked_books_pd = top_liked_books.orderBy(col(\"avg_rating\").desc()).limit(10).toPandas()\n",
    "print(top_liked_books_pd)\n",
    "\n",
    "# Plot top 10 liked books\n",
    "plt.figure(figsize=(12, 6))\n",
    "sns.barplot(x=\"item_id\", y=\"avg_rating\", data=top_liked_books_pd, hue=\"item_id\", palette=\"viridis\", legend=False)\n",
    "plt.xticks(rotation=45)\n",
    "plt.xlabel(\"Book ID\")\n",
    "plt.ylabel(\"Average Rating\")\n",
    "plt.title(\"Top 10 Most Liked Books\")\n",
    "plt.show()\n",
    "# Save plot as an image\n",
    "plot_path = \"top_10_liked_books.png\"\n",
    "plt.savefig(plot_path, bbox_inches=\"tight\")  # Save the plot\n",
    "plt.close()  # Close to free memory\n",
    "\n",
    "# Provide a download link\n",
    "display(FileLink(plot_path))"
   ]
  },
  {
   "cell_type": "markdown",
   "id": "18e952e4-ff6e-441b-81f3-146a5f55e3d8",
   "metadata": {},
   "source": [
    "# Top 10 Most Liked Books"
   ]
  },
  {
   "cell_type": "code",
   "execution_count": 182,
   "id": "900fc9ec-7588-42a7-94d2-44140e513476",
   "metadata": {
    "execution": {
     "iopub.execute_input": "2025-03-19T01:20:47.027175Z",
     "iopub.status.busy": "2025-03-19T01:20:47.026946Z",
     "iopub.status.idle": "2025-03-19T01:21:00.312494Z",
     "shell.execute_reply": "2025-03-19T01:21:00.311767Z",
     "shell.execute_reply.started": "2025-03-19T01:20:47.027148Z"
    }
   },
   "outputs": [
    {
     "data": {
      "application/vnd.jupyter.widget-view+json": {
       "model_id": "7848ca5606d249909bd00cf55e24119d",
       "version_major": 2,
       "version_minor": 0
      },
      "text/plain": [
       "VBox()"
      ]
     },
     "metadata": {},
     "output_type": "display_data"
    },
    {
     "data": {
      "application/vnd.jupyter.widget-view+json": {
       "model_id": "",
       "version_major": 2,
       "version_minor": 0
      },
      "text/plain": [
       "FloatProgress(value=0.0, bar_style='info', description='Progress:', layout=Layout(height='25px', width='50%'),…"
      ]
     },
     "metadata": {},
     "output_type": "display_data"
    },
    {
     "name": "stdout",
     "output_type": "stream",
     "text": [
      "<stdin>:9: FutureWarning: \n",
      "\n",
      "Passing `palette` without assigning `hue` is deprecated and will be removed in v0.14.0. Assign the `x` variable to `hue` and set `legend=False` for the same effect."
     ]
    }
   ],
   "source": [
    "# Aggregate to get average rating for each item_id\n",
    "top_liked_books = df_ratings.groupBy(\"item_id\").agg(avg(\"rating\").alias(\"avg_rating\"))\n",
    "\n",
    "# Convert to Pandas for visualization\n",
    "top_liked_books_pd = top_liked_books.orderBy(col(\"avg_rating\").desc()).limit(10).toPandas()\n",
    "print(top_liked_books_pd)\n",
    "# Plot top 10 liked books\n",
    "plt.figure(figsize=(12, 6))\n",
    "sns.barplot(x=\"item_id\", y=\"avg_rating\", data=top_liked_books_pd, palette=\"viridis\")\n",
    "plt.xticks(rotation=45)\n",
    "plt.xlabel(\"Book ID\")\n",
    "plt.ylabel(\"Average Rating\")\n",
    "plt.title(\"Top 10 Most Liked Books\")\n",
    "plt.show()"
   ]
  },
  {
   "cell_type": "markdown",
   "id": "c111e4be-abc3-443e-a57e-85804db1de60",
   "metadata": {
    "tags": []
   },
   "source": [
    "# Top 10 Least Liked Books"
   ]
  },
  {
   "cell_type": "code",
   "execution_count": null,
   "id": "7f138543-31f5-4b0a-8402-0948bdde5a99",
   "metadata": {
    "tags": []
   },
   "outputs": [],
   "source": [
    "# Aggregate to get lowest-rated books\n",
    "least_liked_books = df_ratings.groupBy(\"item_id\").agg(avg(\"rating\").alias(\"avg_rating\"))\n",
    "\n",
    "# Convert to Pandas for visualization\n",
    "least_liked_books_pd = least_liked_books.orderBy(col(\"avg_rating\").asc()).limit(10).toPandas()\n",
    "print(least_liked_books_pd)\n",
    "# Plot least liked books\n",
    "plt.figure(figsize=(12, 6))\n",
    "sns.barplot(x=\"item_id\", y=\"avg_rating\", data=least_liked_books_pd, palette=\"coolwarm\")\n",
    "plt.xticks(rotation=45)\n",
    "plt.xlabel(\"Book ID\")\n",
    "plt.ylabel(\"Average Rating\")\n",
    "plt.title(\"Top 10 Least Liked Books\")\n",
    "plt.show()\n"
   ]
  },
  {
   "cell_type": "markdown",
   "id": "0d88cd4e-f9c9-43c5-83a6-c0810d00f904",
   "metadata": {},
   "source": [
    "# Most Reviewed Books"
   ]
  },
  {
   "cell_type": "code",
   "execution_count": null,
   "id": "20117380-6afd-44d0-952c-7bd9e006f0e2",
   "metadata": {},
   "outputs": [],
   "source": [
    "most_reviewed_books = df_ratings.groupBy(\"item_id\").agg(count(\"rating\").alias(\"rating_count\"))\n",
    "most_reviewed_books_pd = most_reviewed_books.orderBy(col(\"rating_count\").desc()).limit(10).toPandas()\n",
    "\n",
    "plt.figure(figsize=(12, 6))\n",
    "sns.barplot(x=\"item_id\", y=\"rating_count\", data=most_reviewed_books_pd, palette=\"magma\")\n",
    "plt.xticks(rotation=45)\n",
    "plt.xlabel(\"Book ID\")\n",
    "plt.ylabel(\"Number of Ratings\")\n",
    "plt.title(\"Top 10 Most Reviewed Books\")\n",
    "plt.show()"
   ]
  },
  {
   "cell_type": "markdown",
   "id": "56da190f-9a8d-4076-b185-49edf935c9bc",
   "metadata": {},
   "source": [
    "#  Training a Recommendation System"
   ]
  },
  {
   "cell_type": "code",
   "execution_count": 25,
   "id": "dafef9f9-87a5-41ea-8054-0d90a238c6fb",
   "metadata": {
    "execution": {
     "iopub.execute_input": "2025-03-19T04:12:46.301523Z",
     "iopub.status.busy": "2025-03-19T04:12:46.301295Z",
     "iopub.status.idle": "2025-03-19T04:12:46.344658Z",
     "shell.execute_reply": "2025-03-19T04:12:46.344026Z",
     "shell.execute_reply.started": "2025-03-19T04:12:46.301499Z"
    },
    "tags": []
   },
   "outputs": [
    {
     "data": {
      "application/vnd.jupyter.widget-view+json": {
       "model_id": "3843e2558ff742c2bdd0a5f351a66731",
       "version_major": 2,
       "version_minor": 0
      },
      "text/plain": [
       "VBox()"
      ]
     },
     "metadata": {},
     "output_type": "display_data"
    },
    {
     "data": {
      "application/vnd.jupyter.widget-view+json": {
       "model_id": "",
       "version_major": 2,
       "version_minor": 0
      },
      "text/plain": [
       "FloatProgress(value=0.0, bar_style='info', description='Progress:', layout=Layout(height='25px', width='50%'),…"
      ]
     },
     "metadata": {},
     "output_type": "display_data"
    },
    {
     "name": "stderr",
     "output_type": "stream",
     "text": [
      "An error was encountered:\n",
      "Package already installed for current Spark context!\n",
      "Traceback (most recent call last):\n",
      "  File \"/mnt1/yarn/usercache/livy/appcache/application_1742356023609_0001/container_1742356023609_0001_01_000001/pyspark.zip/pyspark/context.py\", line 2614, in install_pypi_package\n",
      "    raise ValueError(\"Package already installed for current Spark context!\")\n",
      "ValueError: Package already installed for current Spark context!\n",
      "\n"
     ]
    }
   ],
   "source": [
    "sc.install_pypi_package(\"numpy\")\n"
   ]
  },
  {
   "cell_type": "code",
   "execution_count": 26,
   "id": "8bc49fe4-3159-4028-89dd-3fb60db5d8e3",
   "metadata": {
    "execution": {
     "iopub.execute_input": "2025-03-19T04:13:04.496564Z",
     "iopub.status.busy": "2025-03-19T04:13:04.496303Z",
     "iopub.status.idle": "2025-03-19T04:19:06.834781Z",
     "shell.execute_reply": "2025-03-19T04:19:06.834032Z",
     "shell.execute_reply.started": "2025-03-19T04:13:04.496537Z"
    },
    "tags": []
   },
   "outputs": [
    {
     "data": {
      "application/vnd.jupyter.widget-view+json": {
       "model_id": "d5b00fcb8e4945809e55fb4f37439787",
       "version_major": 2,
       "version_minor": 0
      },
      "text/plain": [
       "VBox()"
      ]
     },
     "metadata": {},
     "output_type": "display_data"
    },
    {
     "data": {
      "application/vnd.jupyter.widget-view+json": {
       "model_id": "",
       "version_major": 2,
       "version_minor": 0
      },
      "text/plain": [
       "FloatProgress(value=0.0, bar_style='info', description='Progress:', layout=Layout(height='25px', width='50%'),…"
      ]
     },
     "metadata": {},
     "output_type": "display_data"
    },
    {
     "name": "stderr",
     "output_type": "stream",
     "text": [
      "Exception in thread cell_monitor-26:\n",
      "Traceback (most recent call last):\n",
      "  File \"/mnt/notebook-env/lib/python3.9/threading.py\", line 980, in _bootstrap_inner\n",
      "    self.run()\n",
      "  File \"/mnt/notebook-env/lib/python3.9/threading.py\", line 917, in run\n",
      "    self._target(*self._args, **self._kwargs)\n",
      "  File \"/mnt/notebook-env/lib/python3.9/site-packages/awseditorssparkmonitoringwidget/cellmonitor.py\", line 154, in cell_monitor\n",
      "    job_group_filtered_jobs = [job for job in jobs_data if job['jobGroup'] == str(statement_id)]\n",
      "  File \"/mnt/notebook-env/lib/python3.9/site-packages/awseditorssparkmonitoringwidget/cellmonitor.py\", line 154, in <listcomp>\n",
      "    job_group_filtered_jobs = [job for job in jobs_data if job['jobGroup'] == str(statement_id)]\n",
      "KeyError: 'jobGroup'\n"
     ]
    },
    {
     "name": "stdout",
     "output_type": "stream",
     "text": [
      "RMSE on validation data: 0.9535117233441551"
     ]
    }
   ],
   "source": [
    "from pyspark.ml.recommendation import ALS\n",
    "from pyspark.ml.evaluation import RegressionEvaluator\n",
    "from pyspark.ml.tuning import CrossValidator, ParamGridBuilder\n",
    "from pyspark.ml.feature import StringIndexer\n",
    "from pyspark.sql.functions import col\n",
    "\n",
    "# Split the data into training and validation sets (80% train, 20% validation)\n",
    "train_data, validation_data = df_ratings_clean.randomSplit([0.8, 0.2], seed=42)\n",
    "\n",
    "#  Define the ALS model\n",
    "als = ALS(userCol=\"user_id\", itemCol=\"item_id\", ratingCol=\"rating\", coldStartStrategy=\"drop\")\n",
    "\n",
    "# Set up cross-validation (without parameter grid)\n",
    "crossval = CrossValidator(\n",
    "    estimator=als,\n",
    "    estimatorParamMaps=ParamGridBuilder().build(),  # No parameter grid, just ALS with default params\n",
    "    evaluator=RegressionEvaluator(metricName=\"rmse\", labelCol=\"rating\", predictionCol=\"prediction\"),\n",
    "    numFolds=5  # 5-fold cross-validation\n",
    ")\n",
    "\n",
    "# Fit the model with cross-validation on the training data\n",
    "cv_model = crossval.fit(train_data)\n",
    "\n",
    "# Get the best model from cross-validation\n",
    "best_model = cv_model.bestModel\n",
    "\n",
    "# Make predictions on the validation set\n",
    "predictions = best_model.transform(validation_data)\n",
    "\n",
    "# Evaluate the model on the validation data\n",
    "evaluator = RegressionEvaluator(metricName=\"rmse\", labelCol=\"rating\", predictionCol=\"prediction\")\n",
    "rmse = evaluator.evaluate(predictions)\n",
    "\n",
    "print(f\"RMSE on validation data: {rmse}\")\n"
   ]
  },
  {
   "cell_type": "code",
   "execution_count": 27,
   "id": "6894ac2c-9d8e-48fa-8985-c2c07800280a",
   "metadata": {
    "execution": {
     "iopub.execute_input": "2025-03-19T04:19:11.846707Z",
     "iopub.status.busy": "2025-03-19T04:19:11.846474Z",
     "iopub.status.idle": "2025-03-19T04:20:07.438183Z",
     "shell.execute_reply": "2025-03-19T04:20:07.437375Z",
     "shell.execute_reply.started": "2025-03-19T04:19:11.846678Z"
    },
    "tags": []
   },
   "outputs": [
    {
     "data": {
      "application/vnd.jupyter.widget-view+json": {
       "model_id": "1ba6f082ce64462b926c59dd267cd882",
       "version_major": 2,
       "version_minor": 0
      },
      "text/plain": [
       "VBox()"
      ]
     },
     "metadata": {},
     "output_type": "display_data"
    },
    {
     "data": {
      "application/vnd.jupyter.widget-view+json": {
       "model_id": "",
       "version_major": 2,
       "version_minor": 0
      },
      "text/plain": [
       "FloatProgress(value=0.0, bar_style='info', description='Progress:', layout=Layout(height='25px', width='50%'),…"
      ]
     },
     "metadata": {},
     "output_type": "display_data"
    },
    {
     "name": "stderr",
     "output_type": "stream",
     "text": [
      "Exception in thread cell_monitor-27:\n",
      "Traceback (most recent call last):\n",
      "  File \"/mnt/notebook-env/lib/python3.9/threading.py\", line 980, in _bootstrap_inner\n",
      "    self.run()\n",
      "  File \"/mnt/notebook-env/lib/python3.9/threading.py\", line 917, in run\n",
      "    self._target(*self._args, **self._kwargs)\n",
      "  File \"/mnt/notebook-env/lib/python3.9/site-packages/awseditorssparkmonitoringwidget/cellmonitor.py\", line 154, in cell_monitor\n",
      "    job_group_filtered_jobs = [job for job in jobs_data if job['jobGroup'] == str(statement_id)]\n",
      "  File \"/mnt/notebook-env/lib/python3.9/site-packages/awseditorssparkmonitoringwidget/cellmonitor.py\", line 154, in <listcomp>\n",
      "    job_group_filtered_jobs = [job for job in jobs_data if job['jobGroup'] == str(statement_id)]\n",
      "KeyError: 'jobGroup'\n"
     ]
    },
    {
     "name": "stdout",
     "output_type": "stream",
     "text": [
      "+-------+--------------------+\n",
      "|user_id|     recommendations|\n",
      "+-------+--------------------+\n",
      "|     12|[{2207992, 5.8894...|\n",
      "|     65|[{2962492, 5.0170...|\n",
      "|     76|[{44749881, 5.445...|\n",
      "|     81|[{2962492, 4.1358...|\n",
      "|    122|[{649656, 5.21488...|\n",
      "|    126|[{905641, 5.10007...|\n",
      "|    133|[{28323940, 5.323...|\n",
      "|    140|[{836462, 4.63607...|\n",
      "|    148|[{44600531, 4.573...|\n",
      "|    177|[{905641, 5.12008...|\n",
      "|    192|[{16482835, 4.808...|\n",
      "|    209|[{2139868, 5.3686...|\n",
      "|    243|[{51438471, 4.618...|\n",
      "|    300|[{878114, 4.73622...|\n",
      "|    333|[{49704739, 4.358...|\n",
      "|    406|[{44600531, 4.557...|\n",
      "|    417|[{44749881, 5.489...|\n",
      "|    444|[{49638190, 4.823...|\n",
      "|    481|[{310090, 5.20069...|\n",
      "|    496|[{6801520, 4.8514...|\n",
      "+-------+--------------------+\n",
      "only showing top 20 rows"
     ]
    }
   ],
   "source": [
    "# Generate top-10 recommendations for all users\n",
    "recommendations = best_model.recommendForAllUsers(10)\n",
    "recommendations.show()\n",
    "\n"
   ]
  },
  {
   "cell_type": "code",
   "execution_count": 29,
   "id": "b53780c7-b008-489b-b340-a333d3801cae",
   "metadata": {
    "execution": {
     "iopub.execute_input": "2025-03-19T04:26:12.293365Z",
     "iopub.status.busy": "2025-03-19T04:26:12.293146Z",
     "iopub.status.idle": "2025-03-19T04:27:03.843944Z",
     "shell.execute_reply": "2025-03-19T04:27:03.843096Z",
     "shell.execute_reply.started": "2025-03-19T04:26:12.293341Z"
    },
    "tags": []
   },
   "outputs": [
    {
     "data": {
      "application/vnd.jupyter.widget-view+json": {
       "model_id": "d3d6460e27f646869d2ca553e809596c",
       "version_major": 2,
       "version_minor": 0
      },
      "text/plain": [
       "VBox()"
      ]
     },
     "metadata": {},
     "output_type": "display_data"
    },
    {
     "data": {
      "application/vnd.jupyter.widget-view+json": {
       "model_id": "",
       "version_major": 2,
       "version_minor": 0
      },
      "text/plain": [
       "FloatProgress(value=0.0, bar_style='info', description='Progress:', layout=Layout(height='25px', width='50%'),…"
      ]
     },
     "metadata": {},
     "output_type": "display_data"
    },
    {
     "name": "stderr",
     "output_type": "stream",
     "text": [
      "Exception in thread cell_monitor-29:\n",
      "Traceback (most recent call last):\n",
      "  File \"/mnt/notebook-env/lib/python3.9/threading.py\", line 980, in _bootstrap_inner\n",
      "    self.run()\n",
      "  File \"/mnt/notebook-env/lib/python3.9/threading.py\", line 917, in run\n",
      "    self._target(*self._args, **self._kwargs)\n",
      "  File \"/mnt/notebook-env/lib/python3.9/site-packages/awseditorssparkmonitoringwidget/cellmonitor.py\", line 154, in cell_monitor\n",
      "    job_group_filtered_jobs = [job for job in jobs_data if job['jobGroup'] == str(statement_id)]\n",
      "  File \"/mnt/notebook-env/lib/python3.9/site-packages/awseditorssparkmonitoringwidget/cellmonitor.py\", line 154, in <listcomp>\n",
      "    job_group_filtered_jobs = [job for job in jobs_data if job['jobGroup'] == str(statement_id)]\n",
      "KeyError: 'jobGroup'\n"
     ]
    },
    {
     "name": "stdout",
     "output_type": "stream",
     "text": [
      "+-------+--------------------+\n",
      "|user_id|     recommendations|\n",
      "+-------+--------------------+\n",
      "|     12|[{2207992, 5.8894...|\n",
      "|     65|[{2962492, 5.0170...|\n",
      "|     76|[{44749881, 5.445...|\n",
      "|     81|[{2962492, 4.1358...|\n",
      "|    122|[{649656, 5.21488...|\n",
      "|    126|[{905641, 5.10007...|\n",
      "|    133|[{28323940, 5.323...|\n",
      "|    140|[{836462, 4.63607...|\n",
      "|    148|[{44600531, 4.573...|\n",
      "|    177|[{905641, 5.12008...|\n",
      "|    192|[{16482835, 4.808...|\n",
      "|    209|[{2139868, 5.3686...|\n",
      "|    243|[{51438471, 4.618...|\n",
      "|    300|[{878114, 4.73622...|\n",
      "|    333|[{49704739, 4.358...|\n",
      "|    406|[{44600531, 4.557...|\n",
      "|    417|[{44749881, 5.489...|\n",
      "|    444|[{49638190, 4.823...|\n",
      "|    481|[{310090, 5.20069...|\n",
      "|    496|[{6801520, 4.8514...|\n",
      "+-------+--------------------+\n",
      "only showing top 20 rows"
     ]
    }
   ],
   "source": [
    "data = recommendations.show()"
   ]
  },
  {
   "cell_type": "code",
   "execution_count": null,
   "id": "cfd5926c-c592-47ed-8987-882f4abcfa03",
   "metadata": {
    "tags": []
   },
   "outputs": [],
   "source": []
  },
  {
   "cell_type": "code",
   "execution_count": null,
   "id": "02544b56-e01b-4c0f-a19d-3055b6a9eb1c",
   "metadata": {
    "tags": []
   },
   "outputs": [],
   "source": []
  },
  {
   "cell_type": "code",
   "execution_count": null,
   "id": "130cbe83-89f6-4e1f-8736-ac5b18091056",
   "metadata": {},
   "outputs": [],
   "source": []
  }
 ],
 "metadata": {
  "kernelspec": {
   "display_name": "PySpark",
   "language": "python",
   "name": "pysparkkernel"
  },
  "language_info": {
   "codemirror_mode": {
    "name": "python",
    "version": 3
   },
   "file_extension": ".py",
   "mimetype": "text/x-python",
   "name": "pyspark",
   "pygments_lexer": "python3"
  }
 },
 "nbformat": 4,
 "nbformat_minor": 5
}
