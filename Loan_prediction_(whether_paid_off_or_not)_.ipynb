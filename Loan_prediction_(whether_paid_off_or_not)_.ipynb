{
  "nbformat": 4,
  "nbformat_minor": 0,
  "metadata": {
    "colab": {
      "provenance": [],
      "include_colab_link": true
    },
    "kernelspec": {
      "name": "python3",
      "display_name": "Python 3"
    },
    "language_info": {
      "name": "python"
    }
  },
  "cells": [
    {
      "cell_type": "markdown",
      "metadata": {
        "id": "view-in-github",
        "colab_type": "text"
      },
      "source": [
        "<a href=\"https://colab.research.google.com/github/Rohith1-p/Machine-Learning-Projects/blob/main/Loan_prediction_(whether_paid_off_or_not)_.ipynb\" target=\"_parent\"><img src=\"https://colab.research.google.com/assets/colab-badge.svg\" alt=\"Open In Colab\"/></a>"
      ]
    },
    {
      "cell_type": "markdown",
      "metadata": {
        "id": "HHB8XbWJhVAS"
      },
      "source": [
        "# Project: Bank Loan Prediction"
      ]
    },
    {
      "cell_type": "markdown",
      "metadata": {
        "id": "phqlA01xv0Nm"
      },
      "source": [
        "#Problem Description:\n",
        " Using Bank Loan dataset, create a classifier whether a loan case will be paid of or not."
      ]
    },
    {
      "cell_type": "markdown",
      "metadata": {
        "id": "Ly0Vz1eJxcf1"
      },
      "source": [
        "\n",
        "#COLUMNS:\n",
        "\n",
        "_____________________________________\n",
        "\n",
        "**Loan_status** : Paid off(already paid) , Collection(not paid yet)\n",
        "\n",
        "_____________________________________\n",
        "\n",
        "**Principal**: Amount taken for loan\n",
        "\n",
        "______________________________________\n",
        "\n",
        "**Terms**: The total amount divided into terms for installments(months or weeks)\n",
        "\n",
        "______________________________________\n",
        "\n",
        "**Effective date**: Date of loan given\n",
        "\n",
        "_______________________________________\n",
        "\n",
        "**Due date**: Last date of paying the amount\n",
        "\n",
        "_______________________________________\n",
        "\n",
        "**Age**: Age of the person who took the loan\n",
        "\n",
        "______________________________________\n",
        "\n",
        "**Education**: Education of the person\n",
        "\n",
        "_______________________________________\n",
        "\n",
        "**Gender** : whether male or female\n",
        "______________________________________\n",
        "\n"
      ]
    },
    {
      "cell_type": "code",
      "metadata": {
        "id": "R4OD55bDQTkV"
      },
      "source": [
        "#other libraries are imported before the code\n",
        "#importing basic libraries\n",
        "import pandas as pd\n",
        "import numpy as np\n",
        "import matplotlib.pyplot as plt"
      ],
      "execution_count": null,
      "outputs": []
    },
    {
      "cell_type": "code",
      "metadata": {
        "colab": {
          "base_uri": "https://localhost:8080/"
        },
        "id": "Ffai3hgsMqqj",
        "outputId": "17bd4db0-8d56-4284-f488-f3af9067aac0"
      },
      "source": [
        "#Downloading the data set from IBM cloud\n",
        "\n",
        "!wget -O loan_train.csv https://s3-api.us-geo.objectstorage.softlayer.net/cf-courses-data/CognitiveClass/ML0101ENv3/labs/loan_train.csv\n",
        "!wget -O loan_test.csv https://s3-api.us-geo.objectstorage.softlayer.net/cf-courses-data/CognitiveClass/ML0101ENv3/labs/loan_test.csv"
      ],
      "execution_count": null,
      "outputs": [
        {
          "output_type": "stream",
          "name": "stdout",
          "text": [
            "--2021-12-16 10:49:11--  https://s3-api.us-geo.objectstorage.softlayer.net/cf-courses-data/CognitiveClass/ML0101ENv3/labs/loan_train.csv\n",
            "Resolving s3-api.us-geo.objectstorage.softlayer.net (s3-api.us-geo.objectstorage.softlayer.net)... 67.228.254.196\n",
            "Connecting to s3-api.us-geo.objectstorage.softlayer.net (s3-api.us-geo.objectstorage.softlayer.net)|67.228.254.196|:443... connected.\n",
            "HTTP request sent, awaiting response... 200 OK\n",
            "Length: 23101 (23K) [text/csv]\n",
            "Saving to: ‘loan_train.csv’\n",
            "\n",
            "loan_train.csv      100%[===================>]  22.56K  --.-KB/s    in 0.02s   \n",
            "\n",
            "2021-12-16 10:49:11 (1.04 MB/s) - ‘loan_train.csv’ saved [23101/23101]\n",
            "\n",
            "--2021-12-16 10:49:11--  https://s3-api.us-geo.objectstorage.softlayer.net/cf-courses-data/CognitiveClass/ML0101ENv3/labs/loan_test.csv\n",
            "Resolving s3-api.us-geo.objectstorage.softlayer.net (s3-api.us-geo.objectstorage.softlayer.net)... 67.228.254.196\n",
            "Connecting to s3-api.us-geo.objectstorage.softlayer.net (s3-api.us-geo.objectstorage.softlayer.net)|67.228.254.196|:443... connected.\n",
            "HTTP request sent, awaiting response... 200 OK\n",
            "Length: 3642 (3.6K) [text/csv]\n",
            "Saving to: ‘loan_test.csv’\n",
            "\n",
            "loan_test.csv       100%[===================>]   3.56K  --.-KB/s    in 0s      \n",
            "\n",
            "2021-12-16 10:49:12 (673 MB/s) - ‘loan_test.csv’ saved [3642/3642]\n",
            "\n"
          ]
        }
      ]
    },
    {
      "cell_type": "code",
      "metadata": {
        "id": "_MnEO9VuQIdq"
      },
      "source": [
        "#Reading the csv files into dataframes\n",
        "train_df = pd.read_csv('loan_train.csv')\n",
        "test_df = pd.read_csv('loan_test.csv')"
      ],
      "execution_count": null,
      "outputs": []
    },
    {
      "cell_type": "code",
      "metadata": {
        "colab": {
          "base_uri": "https://localhost:8080/",
          "height": 423
        },
        "id": "dzwmKnynQRrg",
        "outputId": "5fbe35d5-bb41-48d3-bd8d-385781c2cff1"
      },
      "source": [
        "train_df"
      ],
      "execution_count": null,
      "outputs": [
        {
          "output_type": "execute_result",
          "data": {
            "text/html": [
              "<div>\n",
              "<style scoped>\n",
              "    .dataframe tbody tr th:only-of-type {\n",
              "        vertical-align: middle;\n",
              "    }\n",
              "\n",
              "    .dataframe tbody tr th {\n",
              "        vertical-align: top;\n",
              "    }\n",
              "\n",
              "    .dataframe thead th {\n",
              "        text-align: right;\n",
              "    }\n",
              "</style>\n",
              "<table border=\"1\" class=\"dataframe\">\n",
              "  <thead>\n",
              "    <tr style=\"text-align: right;\">\n",
              "      <th></th>\n",
              "      <th>Unnamed: 0</th>\n",
              "      <th>Unnamed: 0.1</th>\n",
              "      <th>loan_status</th>\n",
              "      <th>Principal</th>\n",
              "      <th>terms</th>\n",
              "      <th>effective_date</th>\n",
              "      <th>due_date</th>\n",
              "      <th>age</th>\n",
              "      <th>education</th>\n",
              "      <th>Gender</th>\n",
              "    </tr>\n",
              "  </thead>\n",
              "  <tbody>\n",
              "    <tr>\n",
              "      <th>0</th>\n",
              "      <td>0</td>\n",
              "      <td>0</td>\n",
              "      <td>PAIDOFF</td>\n",
              "      <td>1000</td>\n",
              "      <td>30</td>\n",
              "      <td>9/8/2016</td>\n",
              "      <td>10/7/2016</td>\n",
              "      <td>45</td>\n",
              "      <td>High School or Below</td>\n",
              "      <td>male</td>\n",
              "    </tr>\n",
              "    <tr>\n",
              "      <th>1</th>\n",
              "      <td>2</td>\n",
              "      <td>2</td>\n",
              "      <td>PAIDOFF</td>\n",
              "      <td>1000</td>\n",
              "      <td>30</td>\n",
              "      <td>9/8/2016</td>\n",
              "      <td>10/7/2016</td>\n",
              "      <td>33</td>\n",
              "      <td>Bechalor</td>\n",
              "      <td>female</td>\n",
              "    </tr>\n",
              "    <tr>\n",
              "      <th>2</th>\n",
              "      <td>3</td>\n",
              "      <td>3</td>\n",
              "      <td>PAIDOFF</td>\n",
              "      <td>1000</td>\n",
              "      <td>15</td>\n",
              "      <td>9/8/2016</td>\n",
              "      <td>9/22/2016</td>\n",
              "      <td>27</td>\n",
              "      <td>college</td>\n",
              "      <td>male</td>\n",
              "    </tr>\n",
              "    <tr>\n",
              "      <th>3</th>\n",
              "      <td>4</td>\n",
              "      <td>4</td>\n",
              "      <td>PAIDOFF</td>\n",
              "      <td>1000</td>\n",
              "      <td>30</td>\n",
              "      <td>9/9/2016</td>\n",
              "      <td>10/8/2016</td>\n",
              "      <td>28</td>\n",
              "      <td>college</td>\n",
              "      <td>female</td>\n",
              "    </tr>\n",
              "    <tr>\n",
              "      <th>4</th>\n",
              "      <td>6</td>\n",
              "      <td>6</td>\n",
              "      <td>PAIDOFF</td>\n",
              "      <td>1000</td>\n",
              "      <td>30</td>\n",
              "      <td>9/9/2016</td>\n",
              "      <td>10/8/2016</td>\n",
              "      <td>29</td>\n",
              "      <td>college</td>\n",
              "      <td>male</td>\n",
              "    </tr>\n",
              "    <tr>\n",
              "      <th>...</th>\n",
              "      <td>...</td>\n",
              "      <td>...</td>\n",
              "      <td>...</td>\n",
              "      <td>...</td>\n",
              "      <td>...</td>\n",
              "      <td>...</td>\n",
              "      <td>...</td>\n",
              "      <td>...</td>\n",
              "      <td>...</td>\n",
              "      <td>...</td>\n",
              "    </tr>\n",
              "    <tr>\n",
              "      <th>341</th>\n",
              "      <td>394</td>\n",
              "      <td>394</td>\n",
              "      <td>COLLECTION</td>\n",
              "      <td>800</td>\n",
              "      <td>15</td>\n",
              "      <td>9/11/2016</td>\n",
              "      <td>9/25/2016</td>\n",
              "      <td>32</td>\n",
              "      <td>High School or Below</td>\n",
              "      <td>male</td>\n",
              "    </tr>\n",
              "    <tr>\n",
              "      <th>342</th>\n",
              "      <td>395</td>\n",
              "      <td>395</td>\n",
              "      <td>COLLECTION</td>\n",
              "      <td>1000</td>\n",
              "      <td>30</td>\n",
              "      <td>9/11/2016</td>\n",
              "      <td>10/10/2016</td>\n",
              "      <td>25</td>\n",
              "      <td>High School or Below</td>\n",
              "      <td>male</td>\n",
              "    </tr>\n",
              "    <tr>\n",
              "      <th>343</th>\n",
              "      <td>397</td>\n",
              "      <td>397</td>\n",
              "      <td>COLLECTION</td>\n",
              "      <td>800</td>\n",
              "      <td>15</td>\n",
              "      <td>9/12/2016</td>\n",
              "      <td>9/26/2016</td>\n",
              "      <td>39</td>\n",
              "      <td>college</td>\n",
              "      <td>male</td>\n",
              "    </tr>\n",
              "    <tr>\n",
              "      <th>344</th>\n",
              "      <td>398</td>\n",
              "      <td>398</td>\n",
              "      <td>COLLECTION</td>\n",
              "      <td>1000</td>\n",
              "      <td>30</td>\n",
              "      <td>9/12/2016</td>\n",
              "      <td>11/10/2016</td>\n",
              "      <td>28</td>\n",
              "      <td>college</td>\n",
              "      <td>male</td>\n",
              "    </tr>\n",
              "    <tr>\n",
              "      <th>345</th>\n",
              "      <td>399</td>\n",
              "      <td>399</td>\n",
              "      <td>COLLECTION</td>\n",
              "      <td>1000</td>\n",
              "      <td>30</td>\n",
              "      <td>9/12/2016</td>\n",
              "      <td>10/11/2016</td>\n",
              "      <td>26</td>\n",
              "      <td>college</td>\n",
              "      <td>male</td>\n",
              "    </tr>\n",
              "  </tbody>\n",
              "</table>\n",
              "<p>346 rows × 10 columns</p>\n",
              "</div>"
            ],
            "text/plain": [
              "     Unnamed: 0  Unnamed: 0.1 loan_status  ...  age             education  Gender\n",
              "0             0             0     PAIDOFF  ...   45  High School or Below    male\n",
              "1             2             2     PAIDOFF  ...   33              Bechalor  female\n",
              "2             3             3     PAIDOFF  ...   27               college    male\n",
              "3             4             4     PAIDOFF  ...   28               college  female\n",
              "4             6             6     PAIDOFF  ...   29               college    male\n",
              "..          ...           ...         ...  ...  ...                   ...     ...\n",
              "341         394           394  COLLECTION  ...   32  High School or Below    male\n",
              "342         395           395  COLLECTION  ...   25  High School or Below    male\n",
              "343         397           397  COLLECTION  ...   39               college    male\n",
              "344         398           398  COLLECTION  ...   28               college    male\n",
              "345         399           399  COLLECTION  ...   26               college    male\n",
              "\n",
              "[346 rows x 10 columns]"
            ]
          },
          "metadata": {},
          "execution_count": 4
        }
      ]
    },
    {
      "cell_type": "code",
      "metadata": {
        "colab": {
          "base_uri": "https://localhost:8080/",
          "height": 362
        },
        "id": "1VOnGxLEu1sv",
        "outputId": "39d452e2-0b8c-456f-a74d-87bffca199a9"
      },
      "source": [
        "#Displays first rows in the dataset\n",
        "test_df.head(10)"
      ],
      "execution_count": null,
      "outputs": [
        {
          "output_type": "execute_result",
          "data": {
            "text/html": [
              "<div>\n",
              "<style scoped>\n",
              "    .dataframe tbody tr th:only-of-type {\n",
              "        vertical-align: middle;\n",
              "    }\n",
              "\n",
              "    .dataframe tbody tr th {\n",
              "        vertical-align: top;\n",
              "    }\n",
              "\n",
              "    .dataframe thead th {\n",
              "        text-align: right;\n",
              "    }\n",
              "</style>\n",
              "<table border=\"1\" class=\"dataframe\">\n",
              "  <thead>\n",
              "    <tr style=\"text-align: right;\">\n",
              "      <th></th>\n",
              "      <th>Unnamed: 0</th>\n",
              "      <th>Unnamed: 0.1</th>\n",
              "      <th>loan_status</th>\n",
              "      <th>Principal</th>\n",
              "      <th>terms</th>\n",
              "      <th>effective_date</th>\n",
              "      <th>due_date</th>\n",
              "      <th>age</th>\n",
              "      <th>education</th>\n",
              "      <th>Gender</th>\n",
              "    </tr>\n",
              "  </thead>\n",
              "  <tbody>\n",
              "    <tr>\n",
              "      <th>0</th>\n",
              "      <td>1</td>\n",
              "      <td>1</td>\n",
              "      <td>PAIDOFF</td>\n",
              "      <td>1000</td>\n",
              "      <td>30</td>\n",
              "      <td>9/8/2016</td>\n",
              "      <td>10/7/2016</td>\n",
              "      <td>50</td>\n",
              "      <td>Bechalor</td>\n",
              "      <td>female</td>\n",
              "    </tr>\n",
              "    <tr>\n",
              "      <th>1</th>\n",
              "      <td>5</td>\n",
              "      <td>5</td>\n",
              "      <td>PAIDOFF</td>\n",
              "      <td>300</td>\n",
              "      <td>7</td>\n",
              "      <td>9/9/2016</td>\n",
              "      <td>9/15/2016</td>\n",
              "      <td>35</td>\n",
              "      <td>Master or Above</td>\n",
              "      <td>male</td>\n",
              "    </tr>\n",
              "    <tr>\n",
              "      <th>2</th>\n",
              "      <td>21</td>\n",
              "      <td>21</td>\n",
              "      <td>PAIDOFF</td>\n",
              "      <td>1000</td>\n",
              "      <td>30</td>\n",
              "      <td>9/10/2016</td>\n",
              "      <td>10/9/2016</td>\n",
              "      <td>43</td>\n",
              "      <td>High School or Below</td>\n",
              "      <td>female</td>\n",
              "    </tr>\n",
              "    <tr>\n",
              "      <th>3</th>\n",
              "      <td>24</td>\n",
              "      <td>24</td>\n",
              "      <td>PAIDOFF</td>\n",
              "      <td>1000</td>\n",
              "      <td>30</td>\n",
              "      <td>9/10/2016</td>\n",
              "      <td>10/9/2016</td>\n",
              "      <td>26</td>\n",
              "      <td>college</td>\n",
              "      <td>male</td>\n",
              "    </tr>\n",
              "    <tr>\n",
              "      <th>4</th>\n",
              "      <td>35</td>\n",
              "      <td>35</td>\n",
              "      <td>PAIDOFF</td>\n",
              "      <td>800</td>\n",
              "      <td>15</td>\n",
              "      <td>9/11/2016</td>\n",
              "      <td>9/25/2016</td>\n",
              "      <td>29</td>\n",
              "      <td>Bechalor</td>\n",
              "      <td>male</td>\n",
              "    </tr>\n",
              "    <tr>\n",
              "      <th>5</th>\n",
              "      <td>37</td>\n",
              "      <td>37</td>\n",
              "      <td>PAIDOFF</td>\n",
              "      <td>700</td>\n",
              "      <td>15</td>\n",
              "      <td>9/11/2016</td>\n",
              "      <td>9/25/2016</td>\n",
              "      <td>33</td>\n",
              "      <td>High School or Below</td>\n",
              "      <td>male</td>\n",
              "    </tr>\n",
              "    <tr>\n",
              "      <th>6</th>\n",
              "      <td>38</td>\n",
              "      <td>38</td>\n",
              "      <td>PAIDOFF</td>\n",
              "      <td>1000</td>\n",
              "      <td>15</td>\n",
              "      <td>9/11/2016</td>\n",
              "      <td>9/25/2016</td>\n",
              "      <td>24</td>\n",
              "      <td>college</td>\n",
              "      <td>male</td>\n",
              "    </tr>\n",
              "    <tr>\n",
              "      <th>7</th>\n",
              "      <td>48</td>\n",
              "      <td>48</td>\n",
              "      <td>PAIDOFF</td>\n",
              "      <td>1000</td>\n",
              "      <td>30</td>\n",
              "      <td>9/11/2016</td>\n",
              "      <td>10/10/2016</td>\n",
              "      <td>32</td>\n",
              "      <td>Bechalor</td>\n",
              "      <td>male</td>\n",
              "    </tr>\n",
              "    <tr>\n",
              "      <th>8</th>\n",
              "      <td>50</td>\n",
              "      <td>50</td>\n",
              "      <td>PAIDOFF</td>\n",
              "      <td>800</td>\n",
              "      <td>15</td>\n",
              "      <td>9/11/2016</td>\n",
              "      <td>9/25/2016</td>\n",
              "      <td>27</td>\n",
              "      <td>college</td>\n",
              "      <td>female</td>\n",
              "    </tr>\n",
              "    <tr>\n",
              "      <th>9</th>\n",
              "      <td>61</td>\n",
              "      <td>61</td>\n",
              "      <td>PAIDOFF</td>\n",
              "      <td>1000</td>\n",
              "      <td>15</td>\n",
              "      <td>9/11/2016</td>\n",
              "      <td>9/25/2016</td>\n",
              "      <td>37</td>\n",
              "      <td>college</td>\n",
              "      <td>male</td>\n",
              "    </tr>\n",
              "  </tbody>\n",
              "</table>\n",
              "</div>"
            ],
            "text/plain": [
              "   Unnamed: 0  Unnamed: 0.1 loan_status  ...  age             education  Gender\n",
              "0           1             1     PAIDOFF  ...   50              Bechalor  female\n",
              "1           5             5     PAIDOFF  ...   35       Master or Above    male\n",
              "2          21            21     PAIDOFF  ...   43  High School or Below  female\n",
              "3          24            24     PAIDOFF  ...   26               college    male\n",
              "4          35            35     PAIDOFF  ...   29              Bechalor    male\n",
              "5          37            37     PAIDOFF  ...   33  High School or Below    male\n",
              "6          38            38     PAIDOFF  ...   24               college    male\n",
              "7          48            48     PAIDOFF  ...   32              Bechalor    male\n",
              "8          50            50     PAIDOFF  ...   27               college  female\n",
              "9          61            61     PAIDOFF  ...   37               college    male\n",
              "\n",
              "[10 rows x 10 columns]"
            ]
          },
          "metadata": {},
          "execution_count": 5
        }
      ]
    },
    {
      "cell_type": "markdown",
      "metadata": {
        "id": "b9Zj9FLoqYdk"
      },
      "source": [
        "# Exploratory Data Analysis  and Feature Engineering\n"
      ]
    },
    {
      "cell_type": "code",
      "metadata": {
        "colab": {
          "base_uri": "https://localhost:8080/",
          "height": 382
        },
        "id": "fC7YUOBfbtrl",
        "outputId": "c15a03e4-000d-42b8-d1e8-ab04e00dc2a2"
      },
      "source": [
        "# Looking at the dataset by visualizing using seaborn\n",
        "import seaborn as sns\n",
        "\n",
        "sns.set_style(style='darkgrid',rc = {'axes.grid': False})\n",
        "plt.figure(dpi = 100)\n",
        "sns.scatterplot(data = train_df,x = 'Principal',y='age',hue = 'loan_status')\n",
        "plt.xlabel('Principal')\n",
        "plt.ylabel('age')\n",
        "plt.show()"
      ],
      "execution_count": null,
      "outputs": [
        {
          "output_type": "display_data",
          "data": {
            "image/png": "[encoded data removed]",
            "text/plain": [
              "<Figure size 600x400 with 1 Axes>"
            ]
          },
          "metadata": {}
        }
      ]
    },
    {
      "cell_type": "code",
      "metadata": {
        "id": "2C65Ao9tQZ5J"
      },
      "source": [
        "#separating the labels from the dataframe\n",
        "train_y = train_df['loan_status']\n",
        "test_y = test_df['loan_status']"
      ],
      "execution_count": null,
      "outputs": []
    },
    {
      "cell_type": "code",
      "metadata": {
        "id": "s0Sf5rVEQs8c"
      },
      "source": [
        "# changing the dataframe name from train_df to train_X\n",
        "train_X = train_df\n",
        "test_X = test_df"
      ],
      "execution_count": null,
      "outputs": []
    },
    {
      "cell_type": "markdown",
      "metadata": {
        "id": "_u6dAMQvlaui"
      },
      "source": []
    },
    {
      "cell_type": "code",
      "metadata": {
        "id": "o1BsdD4JQuGD"
      },
      "source": [
        "# Remove the columns 'Unamed: 0' and 'Unnamed:0.1' as there won't be any impact on the model\n",
        "train_X.drop(['Unnamed: 0','Unnamed: 0.1'],axis = 1,inplace= True)\n",
        "test_X.drop(['Unnamed: 0','Unnamed: 0.1'],axis = 1,inplace= True)"
      ],
      "execution_count": null,
      "outputs": []
    },
    {
      "cell_type": "markdown",
      "metadata": {
        "id": "vZB2Ik7kalL2"
      },
      "source": [
        "**Checking the missing values**"
      ]
    },
    {
      "cell_type": "code",
      "metadata": {
        "colab": {
          "base_uri": "https://localhost:8080/"
        },
        "id": "9kiOQ0VfagG-",
        "outputId": "51530bc6-b9f7-4f27-f487-3daa17051b5a"
      },
      "source": [
        "# No missing  values\n",
        "train_X.isna().sum()"
      ],
      "execution_count": null,
      "outputs": [
        {
          "output_type": "execute_result",
          "data": {
            "text/plain": [
              "loan_status       0\n",
              "Principal         0\n",
              "terms             0\n",
              "effective_date    0\n",
              "due_date          0\n",
              "age               0\n",
              "education         0\n",
              "Gender            0\n",
              "dtype: int64"
            ]
          },
          "metadata": {},
          "execution_count": 10
        }
      ]
    },
    {
      "cell_type": "code",
      "metadata": {
        "colab": {
          "base_uri": "https://localhost:8080/",
          "height": 300
        },
        "id": "7J9cSwbCRT7x",
        "outputId": "4ae0b9d8-2859-4f7d-f2b3-0d9bd8f4460b"
      },
      "source": [
        "# Describing the data\n",
        "train_X.describe()"
      ],
      "execution_count": null,
      "outputs": [
        {
          "output_type": "execute_result",
          "data": {
            "text/html": [
              "<div>\n",
              "<style scoped>\n",
              "    .dataframe tbody tr th:only-of-type {\n",
              "        vertical-align: middle;\n",
              "    }\n",
              "\n",
              "    .dataframe tbody tr th {\n",
              "        vertical-align: top;\n",
              "    }\n",
              "\n",
              "    .dataframe thead th {\n",
              "        text-align: right;\n",
              "    }\n",
              "</style>\n",
              "<table border=\"1\" class=\"dataframe\">\n",
              "  <thead>\n",
              "    <tr style=\"text-align: right;\">\n",
              "      <th></th>\n",
              "      <th>Principal</th>\n",
              "      <th>terms</th>\n",
              "      <th>age</th>\n",
              "    </tr>\n",
              "  </thead>\n",
              "  <tbody>\n",
              "    <tr>\n",
              "      <th>count</th>\n",
              "      <td>346.000000</td>\n",
              "      <td>346.000000</td>\n",
              "      <td>346.000000</td>\n",
              "    </tr>\n",
              "    <tr>\n",
              "      <th>mean</th>\n",
              "      <td>943.641618</td>\n",
              "      <td>22.653179</td>\n",
              "      <td>30.939306</td>\n",
              "    </tr>\n",
              "    <tr>\n",
              "      <th>std</th>\n",
              "      <td>109.425530</td>\n",
              "      <td>7.991006</td>\n",
              "      <td>6.039418</td>\n",
              "    </tr>\n",
              "    <tr>\n",
              "      <th>min</th>\n",
              "      <td>300.000000</td>\n",
              "      <td>7.000000</td>\n",
              "      <td>18.000000</td>\n",
              "    </tr>\n",
              "    <tr>\n",
              "      <th>25%</th>\n",
              "      <td>900.000000</td>\n",
              "      <td>15.000000</td>\n",
              "      <td>27.000000</td>\n",
              "    </tr>\n",
              "    <tr>\n",
              "      <th>50%</th>\n",
              "      <td>1000.000000</td>\n",
              "      <td>30.000000</td>\n",
              "      <td>30.000000</td>\n",
              "    </tr>\n",
              "    <tr>\n",
              "      <th>75%</th>\n",
              "      <td>1000.000000</td>\n",
              "      <td>30.000000</td>\n",
              "      <td>35.000000</td>\n",
              "    </tr>\n",
              "    <tr>\n",
              "      <th>max</th>\n",
              "      <td>1000.000000</td>\n",
              "      <td>30.000000</td>\n",
              "      <td>51.000000</td>\n",
              "    </tr>\n",
              "  </tbody>\n",
              "</table>\n",
              "</div>"
            ],
            "text/plain": [
              "         Principal       terms         age\n",
              "count   346.000000  346.000000  346.000000\n",
              "mean    943.641618   22.653179   30.939306\n",
              "std     109.425530    7.991006    6.039418\n",
              "min     300.000000    7.000000   18.000000\n",
              "25%     900.000000   15.000000   27.000000\n",
              "50%    1000.000000   30.000000   30.000000\n",
              "75%    1000.000000   30.000000   35.000000\n",
              "max    1000.000000   30.000000   51.000000"
            ]
          },
          "metadata": {},
          "execution_count": 11
        }
      ]
    },
    {
      "cell_type": "code",
      "metadata": {
        "colab": {
          "base_uri": "https://localhost:8080/"
        },
        "id": "SZ_5RMfka-0m",
        "outputId": "7cee54cf-9efd-4ed5-e7b0-4dbae48bca7b"
      },
      "source": [
        "# Information about the data : datypes of columns, number of missing values, count columns ,rows\n",
        "train_X.info()"
      ],
      "execution_count": null,
      "outputs": [
        {
          "output_type": "stream",
          "name": "stdout",
          "text": [
            "<class 'pandas.core.frame.DataFrame'>\n",
            "RangeIndex: 346 entries, 0 to 345\n",
            "Data columns (total 8 columns):\n",
            " #   Column          Non-Null Count  Dtype \n",
            "---  ------          --------------  ----- \n",
            " 0   loan_status     346 non-null    object\n",
            " 1   Principal       346 non-null    int64 \n",
            " 2   terms           346 non-null    int64 \n",
            " 3   effective_date  346 non-null    object\n",
            " 4   due_date        346 non-null    object\n",
            " 5   age             346 non-null    int64 \n",
            " 6   education       346 non-null    object\n",
            " 7   Gender          346 non-null    object\n",
            "dtypes: int64(3), object(5)\n",
            "memory usage: 21.8+ KB\n"
          ]
        }
      ]
    },
    {
      "cell_type": "code",
      "metadata": {
        "id": "jc4ttO8LRlYq"
      },
      "source": [
        "#Converting the time format from 9/12/2016 to Year-Month-Date\n",
        "\n",
        "train_X['due_date'] = pd.to_datetime(train_X['due_date'])\n",
        "train_X['effective_date'] = pd.to_datetime(train_X['effective_date'])\n",
        "test_X['due_date'] = pd.to_datetime(train_X['due_date'])\n",
        "test_X['effective_date'] = pd.to_datetime(test_X['effective_date'])"
      ],
      "execution_count": null,
      "outputs": []
    },
    {
      "cell_type": "code",
      "metadata": {
        "id": "ntmaw7CYsowh"
      },
      "source": [
        "#Checking the count of paid off and collection in target feature \"loan_status\""
      ],
      "execution_count": null,
      "outputs": []
    },
    {
      "cell_type": "code",
      "metadata": {
        "colab": {
          "base_uri": "https://localhost:8080/"
        },
        "id": "4LG0el5ySkvf",
        "outputId": "62c4997c-4ee6-4e8a-979b-b82ac10ea524"
      },
      "source": [
        "train_X['loan_status'].value_counts()"
      ],
      "execution_count": null,
      "outputs": [
        {
          "output_type": "execute_result",
          "data": {
            "text/plain": [
              "PAIDOFF       260\n",
              "COLLECTION     86\n",
              "Name: loan_status, dtype: int64"
            ]
          },
          "metadata": {},
          "execution_count": 15
        }
      ]
    },
    {
      "cell_type": "markdown",
      "metadata": {
        "id": "Qet-KNfh0NUr"
      },
      "source": [
        "#Analysing on which day of a week the majority of persons have taken their loans and their respective status whether the people paid off or not"
      ]
    },
    {
      "cell_type": "code",
      "metadata": {
        "colab": {
          "base_uri": "https://localhost:8080/",
          "height": 805
        },
        "id": "TxM1PRrMmd9m",
        "outputId": "9d564a62-9180-45c3-d79d-3411369053b1"
      },
      "source": [
        "#Extracting the day of the week from effective_date feature on which day the loan has taken\n",
        "train_X['day_of_week'] = train_X['effective_date'].dt.dayofweek\n",
        "print(train_X['day_of_week'])\n",
        "test_X['day_of_week'] = test_X['effective_date'].dt.dayofweek\n",
        "group  = train_X.groupby('loan_status')['day_of_week'].value_counts()\n",
        "print(group)\n",
        "group = pd.DataFrame(group)\n",
        "group.plot.bar(stacked = True)\n"
      ],
      "execution_count": null,
      "outputs": [
        {
          "output_type": "stream",
          "name": "stdout",
          "text": [
            "0      3\n",
            "1      3\n",
            "2      3\n",
            "3      4\n",
            "4      4\n",
            "      ..\n",
            "341    6\n",
            "342    6\n",
            "343    0\n",
            "344    0\n",
            "345    0\n",
            "Name: day_of_week, Length: 346, dtype: int64\n",
            "loan_status  day_of_week\n",
            "COLLECTION   6               65\n",
            "             5               14\n",
            "             4                4\n",
            "             0                3\n",
            "PAIDOFF      6              101\n",
            "             0               84\n",
            "             2               31\n",
            "             1               20\n",
            "             5               17\n",
            "             4                4\n",
            "             3                3\n",
            "Name: day_of_week, dtype: int64\n"
          ]
        },
        {
          "output_type": "execute_result",
          "data": {
            "text/plain": [
              "<matplotlib.axes._subplots.AxesSubplot at 0x7f50c1d3e250>"
            ]
          },
          "metadata": {},
          "execution_count": 16
        },
        {
          "output_type": "display_data",
          "data": {
            "image/png": "[encoded data removed]",
            "text/plain": [
              "<Figure size 432x288 with 1 Axes>"
            ]
          },
          "metadata": {}
        }
      ]
    },
    {
      "cell_type": "markdown",
      "metadata": {
        "id": "hvdQ7GZ0rTnz"
      },
      "source": [
        "**The above bar plot shows the number of people on which day of a week the loan has taken and status of being paid or not**"
      ]
    },
    {
      "cell_type": "code",
      "metadata": {
        "colab": {
          "base_uri": "https://localhost:8080/"
        },
        "id": "lZXUmjuQqFh-",
        "outputId": "b8dcce33-20f2-4962-a96f-c67d25d82243"
      },
      "source": [
        "# the no of people taken loans on respective day of a week\n",
        "train_X['day_of_week'].value_counts()"
      ],
      "execution_count": null,
      "outputs": [
        {
          "output_type": "execute_result",
          "data": {
            "text/plain": [
              "6    166\n",
              "0     87\n",
              "5     31\n",
              "2     31\n",
              "1     20\n",
              "4      8\n",
              "3      3\n",
              "Name: day_of_week, dtype: int64"
            ]
          },
          "metadata": {},
          "execution_count": 17
        }
      ]
    },
    {
      "cell_type": "code",
      "metadata": {
        "colab": {
          "base_uri": "https://localhost:8080/",
          "height": 516
        },
        "id": "coph3n1InPek",
        "outputId": "3ac25f19-6206-432c-a91f-b26482c424fa"
      },
      "source": [
        "# This is code creating a separate columns in both test and train dataset of the month on which the number of people has taken loans and their status whether they are paid off or to be collected\n",
        "train_X['Month'] = train_X.due_date.dt.month\n",
        "test_X['Month'] = test_X.due_date.dt.month\n",
        "group = train_X.groupby(['loan_status'])['Month'].value_counts()\n",
        "\n",
        "\n",
        "print(pd.DataFrame(group))\n",
        "group.plot.bar(stacked = True)"
      ],
      "execution_count": null,
      "outputs": [
        {
          "output_type": "stream",
          "name": "stdout",
          "text": [
            "                   Month\n",
            "loan_status Month       \n",
            "COLLECTION  10        51\n",
            "            9         30\n",
            "            11         5\n",
            "PAIDOFF     10       130\n",
            "            9        123\n",
            "            11         7\n"
          ]
        },
        {
          "output_type": "execute_result",
          "data": {
            "text/plain": [
              "<matplotlib.axes._subplots.AxesSubplot at 0x7f50b302f2d0>"
            ]
          },
          "metadata": {},
          "execution_count": 18
        },
        {
          "output_type": "display_data",
          "data": {
            "image/png": "[encoded data removed]",
            "text/plain": [
              "<Figure size 432x288 with 1 Axes>"
            ]
          },
          "metadata": {}
        }
      ]
    },
    {
      "cell_type": "code",
      "metadata": {
        "colab": {
          "base_uri": "https://localhost:8080/",
          "height": 206
        },
        "id": "p_yK-H5LwLav",
        "outputId": "0857b90e-a1b6-4f13-dbe7-63890b9b4317"
      },
      "source": [
        "#as the observation shows people who ever get the loan at the end of the week don't pay it off, so lets use Feature binarization to set a threshold values less then day 4\n",
        "train_X['weekend'] = train_X['day_of_week'].apply(lambda x: 1 if (x>3)  else 0)\n",
        "test_X['weekend'] = test_X['day_of_week'].apply(lambda x: 1 if (x>3) else 0)\n",
        "train_X.head()"
      ],
      "execution_count": null,
      "outputs": [
        {
          "output_type": "execute_result",
          "data": {
            "text/html": [
              "<div>\n",
              "<style scoped>\n",
              "    .dataframe tbody tr th:only-of-type {\n",
              "        vertical-align: middle;\n",
              "    }\n",
              "\n",
              "    .dataframe tbody tr th {\n",
              "        vertical-align: top;\n",
              "    }\n",
              "\n",
              "    .dataframe thead th {\n",
              "        text-align: right;\n",
              "    }\n",
              "</style>\n",
              "<table border=\"1\" class=\"dataframe\">\n",
              "  <thead>\n",
              "    <tr style=\"text-align: right;\">\n",
              "      <th></th>\n",
              "      <th>loan_status</th>\n",
              "      <th>Principal</th>\n",
              "      <th>terms</th>\n",
              "      <th>effective_date</th>\n",
              "      <th>due_date</th>\n",
              "      <th>age</th>\n",
              "      <th>education</th>\n",
              "      <th>Gender</th>\n",
              "      <th>day_of_week</th>\n",
              "      <th>Month</th>\n",
              "      <th>weekend</th>\n",
              "    </tr>\n",
              "  </thead>\n",
              "  <tbody>\n",
              "    <tr>\n",
              "      <th>0</th>\n",
              "      <td>PAIDOFF</td>\n",
              "      <td>1000</td>\n",
              "      <td>30</td>\n",
              "      <td>2016-09-08</td>\n",
              "      <td>2016-10-07</td>\n",
              "      <td>45</td>\n",
              "      <td>High School or Below</td>\n",
              "      <td>male</td>\n",
              "      <td>3</td>\n",
              "      <td>10</td>\n",
              "      <td>0</td>\n",
              "    </tr>\n",
              "    <tr>\n",
              "      <th>1</th>\n",
              "      <td>PAIDOFF</td>\n",
              "      <td>1000</td>\n",
              "      <td>30</td>\n",
              "      <td>2016-09-08</td>\n",
              "      <td>2016-10-07</td>\n",
              "      <td>33</td>\n",
              "      <td>Bechalor</td>\n",
              "      <td>female</td>\n",
              "      <td>3</td>\n",
              "      <td>10</td>\n",
              "      <td>0</td>\n",
              "    </tr>\n",
              "    <tr>\n",
              "      <th>2</th>\n",
              "      <td>PAIDOFF</td>\n",
              "      <td>1000</td>\n",
              "      <td>15</td>\n",
              "      <td>2016-09-08</td>\n",
              "      <td>2016-09-22</td>\n",
              "      <td>27</td>\n",
              "      <td>college</td>\n",
              "      <td>male</td>\n",
              "      <td>3</td>\n",
              "      <td>9</td>\n",
              "      <td>0</td>\n",
              "    </tr>\n",
              "    <tr>\n",
              "      <th>3</th>\n",
              "      <td>PAIDOFF</td>\n",
              "      <td>1000</td>\n",
              "      <td>30</td>\n",
              "      <td>2016-09-09</td>\n",
              "      <td>2016-10-08</td>\n",
              "      <td>28</td>\n",
              "      <td>college</td>\n",
              "      <td>female</td>\n",
              "      <td>4</td>\n",
              "      <td>10</td>\n",
              "      <td>1</td>\n",
              "    </tr>\n",
              "    <tr>\n",
              "      <th>4</th>\n",
              "      <td>PAIDOFF</td>\n",
              "      <td>1000</td>\n",
              "      <td>30</td>\n",
              "      <td>2016-09-09</td>\n",
              "      <td>2016-10-08</td>\n",
              "      <td>29</td>\n",
              "      <td>college</td>\n",
              "      <td>male</td>\n",
              "      <td>4</td>\n",
              "      <td>10</td>\n",
              "      <td>1</td>\n",
              "    </tr>\n",
              "  </tbody>\n",
              "</table>\n",
              "</div>"
            ],
            "text/plain": [
              "  loan_status  Principal  terms  ... day_of_week Month  weekend\n",
              "0     PAIDOFF       1000     30  ...           3    10        0\n",
              "1     PAIDOFF       1000     30  ...           3    10        0\n",
              "2     PAIDOFF       1000     15  ...           3     9        0\n",
              "3     PAIDOFF       1000     30  ...           4    10        1\n",
              "4     PAIDOFF       1000     30  ...           4    10        1\n",
              "\n",
              "[5 rows x 11 columns]"
            ]
          },
          "metadata": {},
          "execution_count": 19
        }
      ]
    },
    {
      "cell_type": "code",
      "metadata": {
        "colab": {
          "base_uri": "https://localhost:8080/"
        },
        "id": "nGX1VBcpwpGK",
        "outputId": "a029d3c9-ab4d-4984-f539-4a168c7dc2f1"
      },
      "source": [
        "train_X.groupby(['Gender'])['loan_status'].value_counts()"
      ],
      "execution_count": null,
      "outputs": [
        {
          "output_type": "execute_result",
          "data": {
            "text/plain": [
              "Gender  loan_status\n",
              "female  PAIDOFF         45\n",
              "        COLLECTION       7\n",
              "male    PAIDOFF        215\n",
              "        COLLECTION      79\n",
              "Name: loan_status, dtype: int64"
            ]
          },
          "metadata": {},
          "execution_count": 20
        }
      ]
    },
    {
      "cell_type": "markdown",
      "metadata": {
        "id": "Jd85eBNTJYMa"
      },
      "source": [
        "# Converting categorical data (Gender) to numerical values"
      ]
    },
    {
      "cell_type": "code",
      "metadata": {
        "id": "p09G5sHoxj4j"
      },
      "source": [
        "# Converting male to 0 and female to 1 (Endcoding)\n",
        "train_X['Gender'].replace(to_replace=['male','female'], value=[0,1],inplace=True)\n",
        "train_X.head()\n",
        "test_X['Gender'].replace(to_replace= ['male','female'],value = [0,1],inplace = True)"
      ],
      "execution_count": null,
      "outputs": []
    },
    {
      "cell_type": "markdown",
      "metadata": {
        "id": "-7oNPG8IsxIb"
      },
      "source": [
        "****"
      ]
    },
    {
      "cell_type": "code",
      "metadata": {
        "colab": {
          "base_uri": "https://localhost:8080/"
        },
        "id": "UuE7A_Altdey",
        "outputId": "3ef493d4-97a4-40a3-c7e6-3b28b88b08d6"
      },
      "source": [
        "# Counting the number of people taken loan by Education\n",
        "train_X['education'].value_counts()"
      ],
      "execution_count": null,
      "outputs": [
        {
          "output_type": "execute_result",
          "data": {
            "text/plain": [
              "High School or Below    151\n",
              "college                 149\n",
              "Bechalor                 44\n",
              "Master or Above           2\n",
              "Name: education, dtype: int64"
            ]
          },
          "metadata": {},
          "execution_count": 22
        }
      ]
    },
    {
      "cell_type": "markdown",
      "metadata": {
        "id": "5sxjffqPttKg"
      },
      "source": [
        "***In the above if you can observe the \"Master or Above \" count is very less compared to other categories. so, Better remove it as it may not show the impact on the model***"
      ]
    },
    {
      "cell_type": "markdown",
      "metadata": {
        "id": "sqktNPGOyNFd"
      },
      "source": [
        "**Encoding the Categorical Data**"
      ]
    },
    {
      "cell_type": "code",
      "metadata": {
        "colab": {
          "base_uri": "https://localhost:8080/",
          "height": 206
        },
        "id": "CZ6zfPX8xto0",
        "outputId": "9c0028bc-f05d-46a4-d019-de6f1e33cc52"
      },
      "source": [
        "\n",
        "train_X = pd.concat([train_X,pd.get_dummies(train_X['education'])],axis = 1)\n",
        "\n",
        "train_X.drop(['Master or Above','education','effective_date','due_date','Month'], axis =1 , inplace = True)\n",
        "train_X.head()\n"
      ],
      "execution_count": null,
      "outputs": [
        {
          "output_type": "execute_result",
          "data": {
            "text/html": [
              "<div>\n",
              "<style scoped>\n",
              "    .dataframe tbody tr th:only-of-type {\n",
              "        vertical-align: middle;\n",
              "    }\n",
              "\n",
              "    .dataframe tbody tr th {\n",
              "        vertical-align: top;\n",
              "    }\n",
              "\n",
              "    .dataframe thead th {\n",
              "        text-align: right;\n",
              "    }\n",
              "</style>\n",
              "<table border=\"1\" class=\"dataframe\">\n",
              "  <thead>\n",
              "    <tr style=\"text-align: right;\">\n",
              "      <th></th>\n",
              "      <th>loan_status</th>\n",
              "      <th>Principal</th>\n",
              "      <th>terms</th>\n",
              "      <th>age</th>\n",
              "      <th>Gender</th>\n",
              "      <th>day_of_week</th>\n",
              "      <th>weekend</th>\n",
              "      <th>Bechalor</th>\n",
              "      <th>High School or Below</th>\n",
              "      <th>college</th>\n",
              "    </tr>\n",
              "  </thead>\n",
              "  <tbody>\n",
              "    <tr>\n",
              "      <th>0</th>\n",
              "      <td>PAIDOFF</td>\n",
              "      <td>1000</td>\n",
              "      <td>30</td>\n",
              "      <td>45</td>\n",
              "      <td>0</td>\n",
              "      <td>3</td>\n",
              "      <td>0</td>\n",
              "      <td>0</td>\n",
              "      <td>1</td>\n",
              "      <td>0</td>\n",
              "    </tr>\n",
              "    <tr>\n",
              "      <th>1</th>\n",
              "      <td>PAIDOFF</td>\n",
              "      <td>1000</td>\n",
              "      <td>30</td>\n",
              "      <td>33</td>\n",
              "      <td>1</td>\n",
              "      <td>3</td>\n",
              "      <td>0</td>\n",
              "      <td>1</td>\n",
              "      <td>0</td>\n",
              "      <td>0</td>\n",
              "    </tr>\n",
              "    <tr>\n",
              "      <th>2</th>\n",
              "      <td>PAIDOFF</td>\n",
              "      <td>1000</td>\n",
              "      <td>15</td>\n",
              "      <td>27</td>\n",
              "      <td>0</td>\n",
              "      <td>3</td>\n",
              "      <td>0</td>\n",
              "      <td>0</td>\n",
              "      <td>0</td>\n",
              "      <td>1</td>\n",
              "    </tr>\n",
              "    <tr>\n",
              "      <th>3</th>\n",
              "      <td>PAIDOFF</td>\n",
              "      <td>1000</td>\n",
              "      <td>30</td>\n",
              "      <td>28</td>\n",
              "      <td>1</td>\n",
              "      <td>4</td>\n",
              "      <td>1</td>\n",
              "      <td>0</td>\n",
              "      <td>0</td>\n",
              "      <td>1</td>\n",
              "    </tr>\n",
              "    <tr>\n",
              "      <th>4</th>\n",
              "      <td>PAIDOFF</td>\n",
              "      <td>1000</td>\n",
              "      <td>30</td>\n",
              "      <td>29</td>\n",
              "      <td>0</td>\n",
              "      <td>4</td>\n",
              "      <td>1</td>\n",
              "      <td>0</td>\n",
              "      <td>0</td>\n",
              "      <td>1</td>\n",
              "    </tr>\n",
              "  </tbody>\n",
              "</table>\n",
              "</div>"
            ],
            "text/plain": [
              "  loan_status  Principal  terms  ...  Bechalor  High School or Below  college\n",
              "0     PAIDOFF       1000     30  ...         0                     1        0\n",
              "1     PAIDOFF       1000     30  ...         1                     0        0\n",
              "2     PAIDOFF       1000     15  ...         0                     0        1\n",
              "3     PAIDOFF       1000     30  ...         0                     0        1\n",
              "4     PAIDOFF       1000     30  ...         0                     0        1\n",
              "\n",
              "[5 rows x 10 columns]"
            ]
          },
          "metadata": {},
          "execution_count": 23
        }
      ]
    },
    {
      "cell_type": "markdown",
      "metadata": {
        "id": "G7N0_CsDizAX"
      },
      "source": [
        "**Modifing the test dataframe as train dataframe. Why because we have to test this dataframe on our model which we are going to train on training data**"
      ]
    },
    {
      "cell_type": "code",
      "metadata": {
        "id": "lSqT8BMt309D",
        "colab": {
          "base_uri": "https://localhost:8080/",
          "height": 206
        },
        "outputId": "d4152506-4694-409f-935d-a7ed9bde90fe"
      },
      "source": [
        "\n",
        "test_X = pd.concat([test_X,pd.get_dummies(test_X['education'])],axis = 1)\n",
        "test_X.drop(['Master or Above','education','effective_date','due_date','Month'], axis =1 , inplace = True)\n",
        "test_X.head()"
      ],
      "execution_count": null,
      "outputs": [
        {
          "output_type": "execute_result",
          "data": {
            "text/html": [
              "<div>\n",
              "<style scoped>\n",
              "    .dataframe tbody tr th:only-of-type {\n",
              "        vertical-align: middle;\n",
              "    }\n",
              "\n",
              "    .dataframe tbody tr th {\n",
              "        vertical-align: top;\n",
              "    }\n",
              "\n",
              "    .dataframe thead th {\n",
              "        text-align: right;\n",
              "    }\n",
              "</style>\n",
              "<table border=\"1\" class=\"dataframe\">\n",
              "  <thead>\n",
              "    <tr style=\"text-align: right;\">\n",
              "      <th></th>\n",
              "      <th>loan_status</th>\n",
              "      <th>Principal</th>\n",
              "      <th>terms</th>\n",
              "      <th>age</th>\n",
              "      <th>Gender</th>\n",
              "      <th>day_of_week</th>\n",
              "      <th>weekend</th>\n",
              "      <th>Bechalor</th>\n",
              "      <th>High School or Below</th>\n",
              "      <th>college</th>\n",
              "    </tr>\n",
              "  </thead>\n",
              "  <tbody>\n",
              "    <tr>\n",
              "      <th>0</th>\n",
              "      <td>PAIDOFF</td>\n",
              "      <td>1000</td>\n",
              "      <td>30</td>\n",
              "      <td>50</td>\n",
              "      <td>1</td>\n",
              "      <td>3</td>\n",
              "      <td>0</td>\n",
              "      <td>1</td>\n",
              "      <td>0</td>\n",
              "      <td>0</td>\n",
              "    </tr>\n",
              "    <tr>\n",
              "      <th>1</th>\n",
              "      <td>PAIDOFF</td>\n",
              "      <td>300</td>\n",
              "      <td>7</td>\n",
              "      <td>35</td>\n",
              "      <td>0</td>\n",
              "      <td>4</td>\n",
              "      <td>1</td>\n",
              "      <td>0</td>\n",
              "      <td>0</td>\n",
              "      <td>0</td>\n",
              "    </tr>\n",
              "    <tr>\n",
              "      <th>2</th>\n",
              "      <td>PAIDOFF</td>\n",
              "      <td>1000</td>\n",
              "      <td>30</td>\n",
              "      <td>43</td>\n",
              "      <td>1</td>\n",
              "      <td>5</td>\n",
              "      <td>1</td>\n",
              "      <td>0</td>\n",
              "      <td>1</td>\n",
              "      <td>0</td>\n",
              "    </tr>\n",
              "    <tr>\n",
              "      <th>3</th>\n",
              "      <td>PAIDOFF</td>\n",
              "      <td>1000</td>\n",
              "      <td>30</td>\n",
              "      <td>26</td>\n",
              "      <td>0</td>\n",
              "      <td>5</td>\n",
              "      <td>1</td>\n",
              "      <td>0</td>\n",
              "      <td>0</td>\n",
              "      <td>1</td>\n",
              "    </tr>\n",
              "    <tr>\n",
              "      <th>4</th>\n",
              "      <td>PAIDOFF</td>\n",
              "      <td>800</td>\n",
              "      <td>15</td>\n",
              "      <td>29</td>\n",
              "      <td>0</td>\n",
              "      <td>6</td>\n",
              "      <td>1</td>\n",
              "      <td>1</td>\n",
              "      <td>0</td>\n",
              "      <td>0</td>\n",
              "    </tr>\n",
              "  </tbody>\n",
              "</table>\n",
              "</div>"
            ],
            "text/plain": [
              "  loan_status  Principal  terms  ...  Bechalor  High School or Below  college\n",
              "0     PAIDOFF       1000     30  ...         1                     0        0\n",
              "1     PAIDOFF        300      7  ...         0                     0        0\n",
              "2     PAIDOFF       1000     30  ...         0                     1        0\n",
              "3     PAIDOFF       1000     30  ...         0                     0        1\n",
              "4     PAIDOFF        800     15  ...         1                     0        0\n",
              "\n",
              "[5 rows x 10 columns]"
            ]
          },
          "metadata": {},
          "execution_count": 24
        }
      ]
    },
    {
      "cell_type": "code",
      "metadata": {
        "id": "NvaQwD5o1VP_"
      },
      "source": [
        "train_y = train_X['loan_status'].replace(to_replace=['PAIDOFF','COLLECTION'], value=[0,1])\n",
        "train_X.drop('loan_status',axis = 1,inplace = True)"
      ],
      "execution_count": null,
      "outputs": []
    },
    {
      "cell_type": "code",
      "metadata": {
        "id": "26bl0q2h3_2w"
      },
      "source": [
        "test_y = test_X['loan_status'].replace(to_replace=['PAIDOFF','COLLECTION'], value=[0,1])\n",
        "test_X.drop('loan_status',axis = 1,inplace = True)"
      ],
      "execution_count": null,
      "outputs": []
    },
    {
      "cell_type": "markdown",
      "metadata": {
        "id": "alokjZESfNkg"
      },
      "source": [
        "**Pair plot of whole data set, so that we can analyse the dataset and draw some in sights from data and guess which alogrithm can suit our dataset**"
      ]
    },
    {
      "cell_type": "code",
      "metadata": {
        "colab": {
          "base_uri": "https://localhost:8080/",
          "height": 1000
        },
        "id": "ByaKFfXafMzj",
        "outputId": "b03e865d-e262-4890-97b9-ccf195c90440"
      },
      "source": [
        "sns.pairplot(train_df,hue = 'loan_status')"
      ],
      "execution_count": null,
      "outputs": [
        {
          "output_type": "execute_result",
          "data": {
            "text/plain": [
              "<seaborn.axisgrid.PairGrid at 0x7f50b4077e90>"
            ]
          },
          "metadata": {},
          "execution_count": 27
        },
        {
          "output_type": "display_data",
          "data": {
            "image/png": "[encoded data removed]",
            "text/plain": [
              "<Figure size 1358.88x1260 with 56 Axes>"
            ]
          },
          "metadata": {}
        }
      ]
    },
    {
      "cell_type": "code",
      "metadata": {
        "colab": {
          "base_uri": "https://localhost:8080/",
          "height": 423
        },
        "id": "dg48clI2gdIA",
        "outputId": "5e561254-7b3c-4d62-dae2-80975eec2cf1"
      },
      "source": [
        "train_X"
      ],
      "execution_count": null,
      "outputs": [
        {
          "output_type": "execute_result",
          "data": {
            "text/html": [
              "<div>\n",
              "<style scoped>\n",
              "    .dataframe tbody tr th:only-of-type {\n",
              "        vertical-align: middle;\n",
              "    }\n",
              "\n",
              "    .dataframe tbody tr th {\n",
              "        vertical-align: top;\n",
              "    }\n",
              "\n",
              "    .dataframe thead th {\n",
              "        text-align: right;\n",
              "    }\n",
              "</style>\n",
              "<table border=\"1\" class=\"dataframe\">\n",
              "  <thead>\n",
              "    <tr style=\"text-align: right;\">\n",
              "      <th></th>\n",
              "      <th>Principal</th>\n",
              "      <th>terms</th>\n",
              "      <th>age</th>\n",
              "      <th>Gender</th>\n",
              "      <th>day_of_week</th>\n",
              "      <th>weekend</th>\n",
              "      <th>Bechalor</th>\n",
              "      <th>High School or Below</th>\n",
              "      <th>college</th>\n",
              "    </tr>\n",
              "  </thead>\n",
              "  <tbody>\n",
              "    <tr>\n",
              "      <th>0</th>\n",
              "      <td>1000</td>\n",
              "      <td>30</td>\n",
              "      <td>45</td>\n",
              "      <td>0</td>\n",
              "      <td>3</td>\n",
              "      <td>0</td>\n",
              "      <td>0</td>\n",
              "      <td>1</td>\n",
              "      <td>0</td>\n",
              "    </tr>\n",
              "    <tr>\n",
              "      <th>1</th>\n",
              "      <td>1000</td>\n",
              "      <td>30</td>\n",
              "      <td>33</td>\n",
              "      <td>1</td>\n",
              "      <td>3</td>\n",
              "      <td>0</td>\n",
              "      <td>1</td>\n",
              "      <td>0</td>\n",
              "      <td>0</td>\n",
              "    </tr>\n",
              "    <tr>\n",
              "      <th>2</th>\n",
              "      <td>1000</td>\n",
              "      <td>15</td>\n",
              "      <td>27</td>\n",
              "      <td>0</td>\n",
              "      <td>3</td>\n",
              "      <td>0</td>\n",
              "      <td>0</td>\n",
              "      <td>0</td>\n",
              "      <td>1</td>\n",
              "    </tr>\n",
              "    <tr>\n",
              "      <th>3</th>\n",
              "      <td>1000</td>\n",
              "      <td>30</td>\n",
              "      <td>28</td>\n",
              "      <td>1</td>\n",
              "      <td>4</td>\n",
              "      <td>1</td>\n",
              "      <td>0</td>\n",
              "      <td>0</td>\n",
              "      <td>1</td>\n",
              "    </tr>\n",
              "    <tr>\n",
              "      <th>4</th>\n",
              "      <td>1000</td>\n",
              "      <td>30</td>\n",
              "      <td>29</td>\n",
              "      <td>0</td>\n",
              "      <td>4</td>\n",
              "      <td>1</td>\n",
              "      <td>0</td>\n",
              "      <td>0</td>\n",
              "      <td>1</td>\n",
              "    </tr>\n",
              "    <tr>\n",
              "      <th>...</th>\n",
              "      <td>...</td>\n",
              "      <td>...</td>\n",
              "      <td>...</td>\n",
              "      <td>...</td>\n",
              "      <td>...</td>\n",
              "      <td>...</td>\n",
              "      <td>...</td>\n",
              "      <td>...</td>\n",
              "      <td>...</td>\n",
              "    </tr>\n",
              "    <tr>\n",
              "      <th>341</th>\n",
              "      <td>800</td>\n",
              "      <td>15</td>\n",
              "      <td>32</td>\n",
              "      <td>0</td>\n",
              "      <td>6</td>\n",
              "      <td>1</td>\n",
              "      <td>0</td>\n",
              "      <td>1</td>\n",
              "      <td>0</td>\n",
              "    </tr>\n",
              "    <tr>\n",
              "      <th>342</th>\n",
              "      <td>1000</td>\n",
              "      <td>30</td>\n",
              "      <td>25</td>\n",
              "      <td>0</td>\n",
              "      <td>6</td>\n",
              "      <td>1</td>\n",
              "      <td>0</td>\n",
              "      <td>1</td>\n",
              "      <td>0</td>\n",
              "    </tr>\n",
              "    <tr>\n",
              "      <th>343</th>\n",
              "      <td>800</td>\n",
              "      <td>15</td>\n",
              "      <td>39</td>\n",
              "      <td>0</td>\n",
              "      <td>0</td>\n",
              "      <td>0</td>\n",
              "      <td>0</td>\n",
              "      <td>0</td>\n",
              "      <td>1</td>\n",
              "    </tr>\n",
              "    <tr>\n",
              "      <th>344</th>\n",
              "      <td>1000</td>\n",
              "      <td>30</td>\n",
              "      <td>28</td>\n",
              "      <td>0</td>\n",
              "      <td>0</td>\n",
              "      <td>0</td>\n",
              "      <td>0</td>\n",
              "      <td>0</td>\n",
              "      <td>1</td>\n",
              "    </tr>\n",
              "    <tr>\n",
              "      <th>345</th>\n",
              "      <td>1000</td>\n",
              "      <td>30</td>\n",
              "      <td>26</td>\n",
              "      <td>0</td>\n",
              "      <td>0</td>\n",
              "      <td>0</td>\n",
              "      <td>0</td>\n",
              "      <td>0</td>\n",
              "      <td>1</td>\n",
              "    </tr>\n",
              "  </tbody>\n",
              "</table>\n",
              "<p>346 rows × 9 columns</p>\n",
              "</div>"
            ],
            "text/plain": [
              "     Principal  terms  age  ...  Bechalor  High School or Below  college\n",
              "0         1000     30   45  ...         0                     1        0\n",
              "1         1000     30   33  ...         1                     0        0\n",
              "2         1000     15   27  ...         0                     0        1\n",
              "3         1000     30   28  ...         0                     0        1\n",
              "4         1000     30   29  ...         0                     0        1\n",
              "..         ...    ...  ...  ...       ...                   ...      ...\n",
              "341        800     15   32  ...         0                     1        0\n",
              "342       1000     30   25  ...         0                     1        0\n",
              "343        800     15   39  ...         0                     0        1\n",
              "344       1000     30   28  ...         0                     0        1\n",
              "345       1000     30   26  ...         0                     0        1\n",
              "\n",
              "[346 rows x 9 columns]"
            ]
          },
          "metadata": {},
          "execution_count": 28
        }
      ]
    },
    {
      "cell_type": "code",
      "metadata": {
        "id": "BDU0sWYv2v6D"
      },
      "source": [
        "from sklearn.preprocessing import StandardScaler\n",
        "scaler = StandardScaler()\n",
        "scaler.fit(train_X)\n",
        "train_X=scaler.transform(train_X)"
      ],
      "execution_count": null,
      "outputs": []
    },
    {
      "cell_type": "code",
      "metadata": {
        "id": "ea0vMJ0H3qSi"
      },
      "source": [
        "test_X = scaler.transform(test_X)"
      ],
      "execution_count": null,
      "outputs": []
    },
    {
      "cell_type": "code",
      "metadata": {
        "colab": {
          "base_uri": "https://localhost:8080/"
        },
        "id": "VMS0p8ramxXl",
        "outputId": "b01534c1-4b74-4dc5-dc6e-d13594cce7c4"
      },
      "source": [
        "print(train_X.shape)\n",
        "print(test_X.shape)"
      ],
      "execution_count": null,
      "outputs": [
        {
          "output_type": "stream",
          "name": "stdout",
          "text": [
            "(346, 9)\n",
            "(54, 9)\n"
          ]
        }
      ]
    },
    {
      "cell_type": "code",
      "source": [
        "train_X"
      ],
      "metadata": {
        "colab": {
          "base_uri": "https://localhost:8080/"
        },
        "id": "TJ9HX4ATqWnZ",
        "outputId": "44d0fc90-128a-4770-a4b3-27cced1097ec"
      },
      "execution_count": null,
      "outputs": [
        {
          "output_type": "execute_result",
          "data": {
            "text/plain": [
              "array([[ 0.51578458,  0.92071769,  2.33152555, ..., -0.38170062,\n",
              "         1.13639374, -0.86968108],\n",
              "       [ 0.51578458,  0.92071769,  0.34170148, ...,  2.61985426,\n",
              "        -0.87997669, -0.86968108],\n",
              "       [ 0.51578458, -0.95911111, -0.65321055, ..., -0.38170062,\n",
              "        -0.87997669,  1.14984679],\n",
              "       ...,\n",
              "       [-1.31458942, -0.95911111,  1.33661351, ..., -0.38170062,\n",
              "        -0.87997669,  1.14984679],\n",
              "       [ 0.51578458,  0.92071769, -0.48739188, ..., -0.38170062,\n",
              "        -0.87997669,  1.14984679],\n",
              "       [ 0.51578458,  0.92071769, -0.81902922, ..., -0.38170062,\n",
              "        -0.87997669,  1.14984679]])"
            ]
          },
          "metadata": {},
          "execution_count": 32
        }
      ]
    },
    {
      "cell_type": "code",
      "metadata": {
        "id": "93qGrOqo4Tyt"
      },
      "source": [
        "# import scoring methods\n",
        "from sklearn import metrics\n",
        "from sklearn.model_selection import cross_val_score,KFold"
      ],
      "execution_count": null,
      "outputs": []
    },
    {
      "cell_type": "markdown",
      "metadata": {
        "id": "9GjO7cFWu-yO"
      },
      "source": [
        "## **Training the dataset using the KNN classifier**"
      ]
    },
    {
      "cell_type": "code",
      "metadata": {
        "id": "oSZxWyKi49Md",
        "colab": {
          "base_uri": "https://localhost:8080/"
        },
        "outputId": "2b79d54a-a7b9-4085-f455-cdde75c2a2d3"
      },
      "source": [
        "from sklearn.neighbors import KNeighborsClassifier\n",
        "\n",
        "best_score = 0.0\n",
        "accuracy_list = []\n",
        "\n",
        "for k in range(5,20):\n",
        "  kfold = KFold(n_splits= 10,shuffle= True ,random_state=4)\n",
        "  classifier = KNeighborsClassifier(n_neighbors = k,algorithm = 'auto')\n",
        "\n",
        "  scores = cross_val_score(classifier, train_X, train_y, cv=kfold)\n",
        "  score=scores.mean()\n",
        "  accuracy_list.append(score)\n",
        "\n",
        "\n",
        "  if score > best_score:\n",
        "     best_score=score\n",
        "     best_clf=classifier\n",
        "     bestK=k\n",
        "\n",
        "print(\"Best K is :\",bestK,\"| Cross validation Accuracy :\",best_score)\n",
        "classifier=best_clf"
      ],
      "execution_count": null,
      "outputs": [
        {
          "output_type": "stream",
          "name": "stdout",
          "text": [
            "Best K is : 8 | Cross validation Accuracy : 0.751344537815126\n"
          ]
        }
      ]
    },
    {
      "cell_type": "code",
      "metadata": {
        "id": "BiD5dk5q6qxe"
      },
      "source": [
        "classifier.fit(train_X,train_y)\n",
        "y_predict = classifier.predict(test_X)"
      ],
      "execution_count": null,
      "outputs": []
    },
    {
      "cell_type": "code",
      "metadata": {
        "id": "Wem3OMILkcE2",
        "colab": {
          "base_uri": "https://localhost:8080/"
        },
        "outputId": "e176da2a-eda6-4890-dcf6-9a57f3e28b6f"
      },
      "source": [
        "metrics.confusion_matrix(y_true =test_y,y_pred = y_predict)"
      ],
      "execution_count": null,
      "outputs": [
        {
          "output_type": "execute_result",
          "data": {
            "text/plain": [
              "array([[36,  4],\n",
              "       [12,  2]])"
            ]
          },
          "metadata": {},
          "execution_count": 36
        }
      ]
    },
    {
      "cell_type": "code",
      "metadata": {
        "id": "HvXeEkUcB32A"
      },
      "source": [
        "test_scores = {}"
      ],
      "execution_count": null,
      "outputs": []
    },
    {
      "cell_type": "markdown",
      "metadata": {
        "id": "qb4YJDsahP6Z"
      },
      "source": [
        "**Evaluation**"
      ]
    },
    {
      "cell_type": "code",
      "metadata": {
        "id": "QQZaoMOACE5a"
      },
      "source": [
        "test_scores['kNN-accuracy'] = metrics.accuracy_score(test_y,y_predict)\n",
        "test_scores['KNN-f1-score']= metrics.f1_score(test_y, y_predict, average='weighted')"
      ],
      "execution_count": null,
      "outputs": []
    },
    {
      "cell_type": "code",
      "metadata": {
        "id": "ayr-lycCCLes",
        "colab": {
          "base_uri": "https://localhost:8080/"
        },
        "outputId": "74089217-744d-4473-fdd3-db03628185d7"
      },
      "source": [
        "test_scores"
      ],
      "execution_count": null,
      "outputs": [
        {
          "output_type": "execute_result",
          "data": {
            "text/plain": [
              "{'KNN-f1-score': 0.6579124579124579, 'kNN-accuracy': 0.7037037037037037}"
            ]
          },
          "metadata": {},
          "execution_count": 39
        }
      ]
    },
    {
      "cell_type": "code",
      "metadata": {
        "id": "2GvBHRFZCYSJ",
        "colab": {
          "base_uri": "https://localhost:8080/",
          "height": 278
        },
        "outputId": "87a19e2c-ed10-4b2a-ef3b-f545078057d3"
      },
      "source": [
        "plt.plot(range(5,20),accuracy_list)\n",
        "plt.xlabel('K')\n",
        "plt.ylabel('CV Accuracy')\n",
        "plt.show()"
      ],
      "execution_count": null,
      "outputs": [
        {
          "output_type": "display_data",
          "data": {
            "image/png": "[encoded data removed]",
            "text/plain": [
              "<Figure size 432x288 with 1 Axes>"
            ]
          },
          "metadata": {}
        }
      ]
    },
    {
      "cell_type": "markdown",
      "metadata": {
        "id": "-CG-NA9dvNQb"
      },
      "source": [
        "## **Training the data using Decision Tree**"
      ]
    },
    {
      "cell_type": "code",
      "metadata": {
        "id": "GPLt41JKCyYu"
      },
      "source": [
        "from sklearn import tree\n",
        "\n",
        "clf_tree = tree.DecisionTreeClassifier(max_depth= 3)\n",
        "score = cross_val_score(clf_tree,train_X,train_y,cv = 5)\n",
        "clf_tree = clf_tree.fit(train_X, train_y)\n",
        "\n",
        "y_pred=clf_tree.predict(test_X)"
      ],
      "execution_count": null,
      "outputs": []
    },
    {
      "cell_type": "code",
      "metadata": {
        "id": "9xoDR9CVkeJV",
        "colab": {
          "base_uri": "https://localhost:8080/"
        },
        "outputId": "83dce75f-d2c6-46ef-dbbd-f37ec9fc96b9"
      },
      "source": [
        "max(score)"
      ],
      "execution_count": null,
      "outputs": [
        {
          "output_type": "execute_result",
          "data": {
            "text/plain": [
              "0.7536231884057971"
            ]
          },
          "metadata": {},
          "execution_count": 42
        }
      ]
    },
    {
      "cell_type": "code",
      "metadata": {
        "id": "mRot06eUoa6z",
        "colab": {
          "base_uri": "https://localhost:8080/",
          "height": 438
        },
        "outputId": "ad268872-32ab-4f02-f8cd-cd69cd9a0102"
      },
      "source": [
        "# plotting the tree\n",
        "\n",
        "tree.plot_tree(clf_tree)"
      ],
      "execution_count": null,
      "outputs": [
        {
          "output_type": "execute_result",
          "data": {
            "text/plain": [
              "[Text(148.8, 190.26, 'X[4] <= -0.07\\ngini = 0.374\\nsamples = 346\\nvalue = [260, 86]'),\n",
              " Text(74.4, 135.9, 'X[8] <= 0.14\\ngini = 0.042\\nsamples = 141\\nvalue = [138, 3]'),\n",
              " Text(37.2, 81.53999999999999, 'gini = 0.0\\nsamples = 84\\nvalue = [84, 0]'),\n",
              " Text(111.60000000000001, 81.53999999999999, 'X[4] <= -1.219\\ngini = 0.1\\nsamples = 57\\nvalue = [54, 3]'),\n",
              " Text(74.4, 27.180000000000007, 'gini = 0.165\\nsamples = 33\\nvalue = [30, 3]'),\n",
              " Text(148.8, 27.180000000000007, 'gini = 0.0\\nsamples = 24\\nvalue = [24, 0]'),\n",
              " Text(223.20000000000002, 135.9, 'X[1] <= -1.46\\ngini = 0.482\\nsamples = 205\\nvalue = [122, 83]'),\n",
              " Text(186.0, 81.53999999999999, 'gini = 0.0\\nsamples = 7\\nvalue = [7, 0]'),\n",
              " Text(260.40000000000003, 81.53999999999999, 'X[3] <= 0.979\\ngini = 0.487\\nsamples = 198\\nvalue = [115, 83]'),\n",
              " Text(223.20000000000002, 27.180000000000007, 'gini = 0.493\\nsamples = 173\\nvalue = [97, 76]'),\n",
              " Text(297.6, 27.180000000000007, 'gini = 0.403\\nsamples = 25\\nvalue = [18, 7]')]"
            ]
          },
          "metadata": {},
          "execution_count": 43
        },
        {
          "output_type": "display_data",
          "data": {
            "image/png": "[encoded data removed]",
            "text/plain": [
              "<Figure size 432x288 with 1 Axes>"
            ]
          },
          "metadata": {}
        }
      ]
    },
    {
      "cell_type": "markdown",
      "metadata": {
        "id": "XiUddQI1hd7x"
      },
      "source": [
        "**Evaluation**"
      ]
    },
    {
      "cell_type": "code",
      "metadata": {
        "id": "nEgufk8SDfJJ"
      },
      "source": [
        "test_scores['Tree-accuracy'] = metrics.accuracy_score(test_y,y_pred)\n",
        "test_scores['Tree-f1-score']=metrics.f1_score(test_y, y_pred, average='weighted')"
      ],
      "execution_count": null,
      "outputs": []
    },
    {
      "cell_type": "code",
      "metadata": {
        "id": "iKlUOBk2DtoK",
        "colab": {
          "base_uri": "https://localhost:8080/"
        },
        "outputId": "0b675ee3-e1db-4ec3-cec8-21dd9e78d476"
      },
      "source": [
        "test_scores"
      ],
      "execution_count": null,
      "outputs": [
        {
          "output_type": "execute_result",
          "data": {
            "text/plain": [
              "{'KNN-f1-score': 0.6579124579124579,\n",
              " 'Tree-accuracy': 0.7407407407407407,\n",
              " 'Tree-f1-score': 0.6304176516942475,\n",
              " 'kNN-accuracy': 0.7037037037037037}"
            ]
          },
          "metadata": {},
          "execution_count": 45
        }
      ]
    },
    {
      "cell_type": "markdown",
      "metadata": {
        "id": "E_5AS9KxvUnU"
      },
      "source": [
        "# **Support Vector Machine algorithm**"
      ]
    },
    {
      "cell_type": "code",
      "metadata": {
        "id": "y0eOUJ4PE9Fp"
      },
      "source": [
        "from sklearn.svm import SVC\n",
        "folds = KFold(n_splits = 10, shuffle = True, random_state = 4)\n",
        "clf_svc = SVC(C=1)\n",
        "cv_result = cross_val_score(clf_svc,train_X,train_y,cv = 10)\n"
      ],
      "execution_count": null,
      "outputs": []
    },
    {
      "cell_type": "code",
      "metadata": {
        "id": "01HCxiLZsk1d",
        "colab": {
          "base_uri": "https://localhost:8080/"
        },
        "outputId": "9c81aaa1-6372-44ed-cfdd-71e1e41939b1"
      },
      "source": [
        "cv_result.mean()\n"
      ],
      "execution_count": null,
      "outputs": [
        {
          "output_type": "execute_result",
          "data": {
            "text/plain": [
              "0.723109243697479"
            ]
          },
          "metadata": {},
          "execution_count": 47
        }
      ]
    },
    {
      "cell_type": "code",
      "metadata": {
        "id": "TdiAtjctxZKG"
      },
      "source": [
        "clf_svc.fit(train_X,train_y)\n",
        "y_pred = clf_svc.predict(test_X)"
      ],
      "execution_count": null,
      "outputs": []
    },
    {
      "cell_type": "code",
      "metadata": {
        "id": "2mP-qoDJHupE"
      },
      "source": [
        "\n",
        "test_scores['SVM-f1-score']=metrics.f1_score(test_y, y_pred, average='weighted')\n",
        "test_scores['SVM-accuracy'] = metrics.accuracy_score(test_y,y_pred)"
      ],
      "execution_count": null,
      "outputs": []
    },
    {
      "cell_type": "code",
      "metadata": {
        "id": "b-rQ1XMPIGAZ",
        "colab": {
          "base_uri": "https://localhost:8080/"
        },
        "outputId": "3aec4aaf-6109-487c-fabc-03c8961e846c"
      },
      "source": [
        "test_scores"
      ],
      "execution_count": null,
      "outputs": [
        {
          "output_type": "execute_result",
          "data": {
            "text/plain": [
              "{'KNN-f1-score': 0.6579124579124579,\n",
              " 'SVM-accuracy': 0.7222222222222222,\n",
              " 'SVM-f1-score': 0.6212664277180406,\n",
              " 'Tree-accuracy': 0.7407407407407407,\n",
              " 'Tree-f1-score': 0.6304176516942475,\n",
              " 'kNN-accuracy': 0.7037037037037037}"
            ]
          },
          "metadata": {},
          "execution_count": 50
        }
      ]
    },
    {
      "cell_type": "markdown",
      "metadata": {
        "id": "88b2bZQu5cXp"
      },
      "source": [
        "# **Logistic Regression**"
      ]
    },
    {
      "cell_type": "code",
      "metadata": {
        "id": "zNB6ZuHVIJc7"
      },
      "source": [
        "from sklearn.linear_model import LogisticRegression\n",
        "\n",
        "clf_log = LogisticRegression(random_state=0, solver='saga')\n",
        "clf_log.fit(train_X,train_y)\n",
        "\n",
        "y_pred=clf_log.predict(test_X)\n"
      ],
      "execution_count": null,
      "outputs": []
    },
    {
      "cell_type": "code",
      "metadata": {
        "id": "1LS7PXYxIdTN"
      },
      "source": [
        "\n",
        "test_scores['LogRef-accuracy'] = metrics.accuracy_score(test_y,y_pred)\n",
        "test_scores['LogReg-f1-score']=metrics.f1_score(test_y, y_pred, average='weighted')\n",
        "test_scores['LogReg-logLoss']=metrics.log_loss(test_y, y_pred)"
      ],
      "execution_count": null,
      "outputs": []
    },
    {
      "cell_type": "markdown",
      "metadata": {
        "id": "b0NkC4jdzA3E"
      },
      "source": [
        "**These are the test scores of the model**"
      ]
    },
    {
      "cell_type": "code",
      "metadata": {
        "id": "ITGfd1R6IkaC",
        "colab": {
          "base_uri": "https://localhost:8080/"
        },
        "outputId": "667d3e9e-865f-4e90-d120-b9e336f69179"
      },
      "source": [
        "test_scores"
      ],
      "execution_count": null,
      "outputs": [
        {
          "output_type": "execute_result",
          "data": {
            "text/plain": [
              "{'KNN-f1-score': 0.6579124579124579,\n",
              " 'LogRef-accuracy': 0.7592592592592593,\n",
              " 'LogReg-f1-score': 0.6717642373556352,\n",
              " 'LogReg-logLoss': 8.31489061358961,\n",
              " 'SVM-accuracy': 0.7222222222222222,\n",
              " 'SVM-f1-score': 0.6212664277180406,\n",
              " 'Tree-accuracy': 0.7407407407407407,\n",
              " 'Tree-f1-score': 0.6304176516942475,\n",
              " 'kNN-accuracy': 0.7037037037037037}"
            ]
          },
          "metadata": {},
          "execution_count": 53
        }
      ]
    },
    {
      "cell_type": "markdown",
      "metadata": {
        "id": "79ipOLJCCQLC"
      },
      "source": [
        "**The Accuracy in every model is on an average of 75%. The accuracy may increase in the increase of the training dataset.**"
      ]
    },
    {
      "cell_type": "markdown",
      "metadata": {
        "id": "Z4dqrxrZ5riC"
      },
      "source": [
        "# **Randomized Search CV**"
      ]
    },
    {
      "cell_type": "code",
      "metadata": {
        "id": "nwSy87io9R8M"
      },
      "source": [
        "from sklearn.model_selection import RandomizedSearchCV\n",
        "from sklearn.preprocessing import StandardScaler\n",
        "from sklearn.pipeline import Pipeline\n"
      ],
      "execution_count": null,
      "outputs": []
    },
    {
      "cell_type": "code",
      "metadata": {
        "id": "I6myU9RQ-iOy"
      },
      "source": [
        "pipeline = Pipeline(steps = [\n",
        "                             ('scaler',StandardScaler()),\n",
        "\n",
        "                             ('estimator',LogisticRegression())])"
      ],
      "execution_count": null,
      "outputs": []
    },
    {
      "cell_type": "code",
      "metadata": {
        "id": "KfZswDPg-8Ld"
      },
      "source": [
        "param_distribution =  [{\n",
        "                        'estimator':[LogisticRegression()],\n",
        "\n",
        "                        },\n",
        "                       {\n",
        "                        'estimator': [KNeighborsClassifier( n_neighbors= 10)],\n",
        "\n",
        "                        },\n",
        "                       {\n",
        "                        'estimator': [SVC(C =1)]},\n",
        "                       {\n",
        "                        'estimator': [tree.DecisionTreeClassifier(max_depth= 3)]\n",
        "                       }]\n",
        ""
      ],
      "execution_count": null,
      "outputs": []
    },
    {
      "cell_type": "code",
      "metadata": {
        "id": "V6yxuKjX_opl",
        "colab": {
          "base_uri": "https://localhost:8080/"
        },
        "outputId": "571afc12-7757-49c6-c7db-381c7f90227f"
      },
      "source": [
        "random_search_cv = RandomizedSearchCV(pipeline,param_distribution,refit=True,cv = 5)\n",
        "random_search_cv.fit(train_X,train_y)\n",
        "print(random_search_cv.best_params_)"
      ],
      "execution_count": null,
      "outputs": [
        {
          "output_type": "stream",
          "name": "stdout",
          "text": [
            "{'estimator': KNeighborsClassifier(n_neighbors=10)}\n"
          ]
        },
        {
          "output_type": "stream",
          "name": "stderr",
          "text": [
            "/usr/local/lib/python3.7/dist-packages/sklearn/model_selection/_search.py:296: UserWarning: The total space of parameters 4 is smaller than n_iter=10. Running 4 iterations. For exhaustive searches, use GridSearchCV.\n",
            "  UserWarning,\n"
          ]
        }
      ]
    },
    {
      "cell_type": "code",
      "metadata": {
        "id": "HhyxwZqJAWm5",
        "colab": {
          "base_uri": "https://localhost:8080/"
        },
        "outputId": "8194105f-0c24-4574-9cfb-21730f97a75a"
      },
      "source": [
        "random_search_cv.best_score_"
      ],
      "execution_count": null,
      "outputs": [
        {
          "output_type": "execute_result",
          "data": {
            "text/plain": [
              "0.7196273291925465"
            ]
          },
          "metadata": {},
          "execution_count": 58
        }
      ]
    },
    {
      "cell_type": "code",
      "metadata": {
        "id": "EojWtdAzAz6K"
      },
      "source": [
        "pred_y = random_search_cv.best_estimator_.predict(test_X)"
      ],
      "execution_count": null,
      "outputs": []
    },
    {
      "cell_type": "code",
      "metadata": {
        "id": "vwpqTIh2A6XG",
        "colab": {
          "base_uri": "https://localhost:8080/"
        },
        "outputId": "65b3deda-d112-4861-9bd0-d657497f6e26"
      },
      "source": [
        "metrics.accuracy_score(test_y,pred_y)\n"
      ],
      "execution_count": null,
      "outputs": [
        {
          "output_type": "execute_result",
          "data": {
            "text/plain": [
              "0.7222222222222222"
            ]
          },
          "metadata": {},
          "execution_count": 60
        }
      ]
    },
    {
      "cell_type": "markdown",
      "metadata": {
        "id": "SGIJNzcLznpm"
      },
      "source": [
        "Every time we run the cell of randomizedsearch the accuracy changes because it takes the random param distribution"
      ]
    },
    {
      "cell_type": "markdown",
      "metadata": {
        "id": "GjRg3ZZ1BTcH"
      },
      "source": [
        "**The best model accuracy the given RanddomizedSearch is 72%**"
      ]
    },
    {
      "cell_type": "markdown",
      "metadata": {
        "id": "3sI2k8Ntip4v"
      },
      "source": [
        "#                                                          **Thank you!**"
      ]
    },
    {
      "cell_type": "code",
      "metadata": {
        "id": "3TS-jcywCWR0"
      },
      "source": [],
      "execution_count": null,
      "outputs": []
    }
  ]
}